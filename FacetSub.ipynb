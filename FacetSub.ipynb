{
  "cells": [
    {
      "cell_type": "code",
      "execution_count": 29,
      "metadata": {
        "id": "B6k6FUgc00IN"
      },
      "outputs": [],
      "source": [
        "import pandas as pd\n",
        "import matplotlib.pyplot as plt\n",
        "import numpy as np\n",
        "from sklearn.model_selection import train_test_split\n",
        "from sklearn.preprocessing import LabelEncoder\n",
        "from sklearn.preprocessing import OneHotEncoder\n",
        "from sklearn.preprocessing import StandardScaler\n",
        "from sklearn.preprocessing import MinMaxScaler\n",
        "from sklearn.preprocessing import normalize\n",
        "from sklearn.linear_model import LogisticRegression\n",
        "from sklearn.ensemble import RandomForestClassifier\n",
        "from sklearn.tree import DecisionTreeClassifier\n",
        "from sklearn.metrics import accuracy_score\n",
        "from sklearn.metrics import f1_score"
      ]
    },
    {
      "cell_type": "code",
      "execution_count": 30,
      "metadata": {
        "id": "nZmUK94X6V8S"
      },
      "outputs": [],
      "source": [
        "data=pd.read_csv(\"/content/Train_churn.csv\")"
      ]
    },
    {
      "cell_type": "code",
      "execution_count": 31,
      "metadata": {
        "colab": {
          "base_uri": "https://localhost:8080/",
          "height": 206
        },
        "id": "xLJo3RPe6r2o",
        "outputId": "1863747c-d484-4cb5-d97a-2f9ac2074001"
      },
      "outputs": [
        {
          "output_type": "execute_result",
          "data": {
            "text/plain": [
              "         ID  Age  Gender         Income     Balance  Vintage  \\\n",
              "0  84e2fcc9   36  Female       5L - 10L   563266.44        4   \n",
              "1  57fea15e   53  Female   Less than 5L   875572.11        2   \n",
              "2  8df34ef3   35  Female  More than 15L   701607.06        2   \n",
              "3  c5c0788b   43  Female  More than 15L  1393922.16        0   \n",
              "4  951d69c4   39  Female  More than 15L   893146.23        1   \n",
              "\n",
              "   Transaction_Status Product_Holdings  Credit_Card Credit_Category  Is_Churn  \n",
              "0                   0                1            0         Average         1  \n",
              "1                   1                1            1            Poor         0  \n",
              "2                   1                2            0            Poor         0  \n",
              "3                   1                2            1            Poor         1  \n",
              "4                   1                1            1            Good         1  "
            ],
            "text/html": [
              "\n",
              "  <div id=\"df-4a92f7aa-a4f2-45da-b5d1-350d6906601e\">\n",
              "    <div class=\"colab-df-container\">\n",
              "      <div>\n",
              "<style scoped>\n",
              "    .dataframe tbody tr th:only-of-type {\n",
              "        vertical-align: middle;\n",
              "    }\n",
              "\n",
              "    .dataframe tbody tr th {\n",
              "        vertical-align: top;\n",
              "    }\n",
              "\n",
              "    .dataframe thead th {\n",
              "        text-align: right;\n",
              "    }\n",
              "</style>\n",
              "<table border=\"1\" class=\"dataframe\">\n",
              "  <thead>\n",
              "    <tr style=\"text-align: right;\">\n",
              "      <th></th>\n",
              "      <th>ID</th>\n",
              "      <th>Age</th>\n",
              "      <th>Gender</th>\n",
              "      <th>Income</th>\n",
              "      <th>Balance</th>\n",
              "      <th>Vintage</th>\n",
              "      <th>Transaction_Status</th>\n",
              "      <th>Product_Holdings</th>\n",
              "      <th>Credit_Card</th>\n",
              "      <th>Credit_Category</th>\n",
              "      <th>Is_Churn</th>\n",
              "    </tr>\n",
              "  </thead>\n",
              "  <tbody>\n",
              "    <tr>\n",
              "      <th>0</th>\n",
              "      <td>84e2fcc9</td>\n",
              "      <td>36</td>\n",
              "      <td>Female</td>\n",
              "      <td>5L - 10L</td>\n",
              "      <td>563266.44</td>\n",
              "      <td>4</td>\n",
              "      <td>0</td>\n",
              "      <td>1</td>\n",
              "      <td>0</td>\n",
              "      <td>Average</td>\n",
              "      <td>1</td>\n",
              "    </tr>\n",
              "    <tr>\n",
              "      <th>1</th>\n",
              "      <td>57fea15e</td>\n",
              "      <td>53</td>\n",
              "      <td>Female</td>\n",
              "      <td>Less than 5L</td>\n",
              "      <td>875572.11</td>\n",
              "      <td>2</td>\n",
              "      <td>1</td>\n",
              "      <td>1</td>\n",
              "      <td>1</td>\n",
              "      <td>Poor</td>\n",
              "      <td>0</td>\n",
              "    </tr>\n",
              "    <tr>\n",
              "      <th>2</th>\n",
              "      <td>8df34ef3</td>\n",
              "      <td>35</td>\n",
              "      <td>Female</td>\n",
              "      <td>More than 15L</td>\n",
              "      <td>701607.06</td>\n",
              "      <td>2</td>\n",
              "      <td>1</td>\n",
              "      <td>2</td>\n",
              "      <td>0</td>\n",
              "      <td>Poor</td>\n",
              "      <td>0</td>\n",
              "    </tr>\n",
              "    <tr>\n",
              "      <th>3</th>\n",
              "      <td>c5c0788b</td>\n",
              "      <td>43</td>\n",
              "      <td>Female</td>\n",
              "      <td>More than 15L</td>\n",
              "      <td>1393922.16</td>\n",
              "      <td>0</td>\n",
              "      <td>1</td>\n",
              "      <td>2</td>\n",
              "      <td>1</td>\n",
              "      <td>Poor</td>\n",
              "      <td>1</td>\n",
              "    </tr>\n",
              "    <tr>\n",
              "      <th>4</th>\n",
              "      <td>951d69c4</td>\n",
              "      <td>39</td>\n",
              "      <td>Female</td>\n",
              "      <td>More than 15L</td>\n",
              "      <td>893146.23</td>\n",
              "      <td>1</td>\n",
              "      <td>1</td>\n",
              "      <td>1</td>\n",
              "      <td>1</td>\n",
              "      <td>Good</td>\n",
              "      <td>1</td>\n",
              "    </tr>\n",
              "  </tbody>\n",
              "</table>\n",
              "</div>\n",
              "      <button class=\"colab-df-convert\" onclick=\"convertToInteractive('df-4a92f7aa-a4f2-45da-b5d1-350d6906601e')\"\n",
              "              title=\"Convert this dataframe to an interactive table.\"\n",
              "              style=\"display:none;\">\n",
              "        \n",
              "  <svg xmlns=\"http://www.w3.org/2000/svg\" height=\"24px\"viewBox=\"0 0 24 24\"\n",
              "       width=\"24px\">\n",
              "    <path d=\"M0 0h24v24H0V0z\" fill=\"none\"/>\n",
              "    <path d=\"M18.56 5.44l.94 2.06.94-2.06 2.06-.94-2.06-.94-.94-2.06-.94 2.06-2.06.94zm-11 1L8.5 8.5l.94-2.06 2.06-.94-2.06-.94L8.5 2.5l-.94 2.06-2.06.94zm10 10l.94 2.06.94-2.06 2.06-.94-2.06-.94-.94-2.06-.94 2.06-2.06.94z\"/><path d=\"M17.41 7.96l-1.37-1.37c-.4-.4-.92-.59-1.43-.59-.52 0-1.04.2-1.43.59L10.3 9.45l-7.72 7.72c-.78.78-.78 2.05 0 2.83L4 21.41c.39.39.9.59 1.41.59.51 0 1.02-.2 1.41-.59l7.78-7.78 2.81-2.81c.8-.78.8-2.07 0-2.86zM5.41 20L4 18.59l7.72-7.72 1.47 1.35L5.41 20z\"/>\n",
              "  </svg>\n",
              "      </button>\n",
              "      \n",
              "  <style>\n",
              "    .colab-df-container {\n",
              "      display:flex;\n",
              "      flex-wrap:wrap;\n",
              "      gap: 12px;\n",
              "    }\n",
              "\n",
              "    .colab-df-convert {\n",
              "      background-color: #E8F0FE;\n",
              "      border: none;\n",
              "      border-radius: 50%;\n",
              "      cursor: pointer;\n",
              "      display: none;\n",
              "      fill: #1967D2;\n",
              "      height: 32px;\n",
              "      padding: 0 0 0 0;\n",
              "      width: 32px;\n",
              "    }\n",
              "\n",
              "    .colab-df-convert:hover {\n",
              "      background-color: #E2EBFA;\n",
              "      box-shadow: 0px 1px 2px rgba(60, 64, 67, 0.3), 0px 1px 3px 1px rgba(60, 64, 67, 0.15);\n",
              "      fill: #174EA6;\n",
              "    }\n",
              "\n",
              "    [theme=dark] .colab-df-convert {\n",
              "      background-color: #3B4455;\n",
              "      fill: #D2E3FC;\n",
              "    }\n",
              "\n",
              "    [theme=dark] .colab-df-convert:hover {\n",
              "      background-color: #434B5C;\n",
              "      box-shadow: 0px 1px 3px 1px rgba(0, 0, 0, 0.15);\n",
              "      filter: drop-shadow(0px 1px 2px rgba(0, 0, 0, 0.3));\n",
              "      fill: #FFFFFF;\n",
              "    }\n",
              "  </style>\n",
              "\n",
              "      <script>\n",
              "        const buttonEl =\n",
              "          document.querySelector('#df-4a92f7aa-a4f2-45da-b5d1-350d6906601e button.colab-df-convert');\n",
              "        buttonEl.style.display =\n",
              "          google.colab.kernel.accessAllowed ? 'block' : 'none';\n",
              "\n",
              "        async function convertToInteractive(key) {\n",
              "          const element = document.querySelector('#df-4a92f7aa-a4f2-45da-b5d1-350d6906601e');\n",
              "          const dataTable =\n",
              "            await google.colab.kernel.invokeFunction('convertToInteractive',\n",
              "                                                     [key], {});\n",
              "          if (!dataTable) return;\n",
              "\n",
              "          const docLinkHtml = 'Like what you see? Visit the ' +\n",
              "            '<a target=\"_blank\" href=https://colab.research.google.com/notebooks/data_table.ipynb>data table notebook</a>'\n",
              "            + ' to learn more about interactive tables.';\n",
              "          element.innerHTML = '';\n",
              "          dataTable['output_type'] = 'display_data';\n",
              "          await google.colab.output.renderOutput(dataTable, element);\n",
              "          const docLink = document.createElement('div');\n",
              "          docLink.innerHTML = docLinkHtml;\n",
              "          element.appendChild(docLink);\n",
              "        }\n",
              "      </script>\n",
              "    </div>\n",
              "  </div>\n",
              "  "
            ]
          },
          "metadata": {},
          "execution_count": 31
        }
      ],
      "source": [
        "data.head()"
      ]
    },
    {
      "cell_type": "code",
      "execution_count": 32,
      "metadata": {
        "colab": {
          "base_uri": "https://localhost:8080/"
        },
        "id": "W5NDN5Mg6u4j",
        "outputId": "6982d697-008a-494c-9cb5-e859f8df43b4"
      },
      "outputs": [
        {
          "output_type": "execute_result",
          "data": {
            "text/plain": [
              "(6650, 11)"
            ]
          },
          "metadata": {},
          "execution_count": 32
        }
      ],
      "source": [
        "data.shape"
      ]
    },
    {
      "cell_type": "code",
      "execution_count": 33,
      "metadata": {
        "colab": {
          "base_uri": "https://localhost:8080/"
        },
        "id": "rvNV1ZGP7Qvi",
        "outputId": "6b604b16-259a-4988-8bb6-8e11a292ed9c"
      },
      "outputs": [
        {
          "output_type": "execute_result",
          "data": {
            "text/plain": [
              "Index(['ID', 'Age', 'Gender', 'Income', 'Balance', 'Vintage',\n",
              "       'Transaction_Status', 'Product_Holdings', 'Credit_Card',\n",
              "       'Credit_Category', 'Is_Churn'],\n",
              "      dtype='object')"
            ]
          },
          "metadata": {},
          "execution_count": 33
        }
      ],
      "source": [
        "data.columns"
      ]
    },
    {
      "cell_type": "code",
      "source": [
        "data['Is_Churn'].value_counts()"
      ],
      "metadata": {
        "colab": {
          "base_uri": "https://localhost:8080/"
        },
        "id": "gocZ974aNDj9",
        "outputId": "d9a27b96-fc49-4b58-d4d3-a13766d4044a"
      },
      "execution_count": 81,
      "outputs": [
        {
          "output_type": "execute_result",
          "data": {
            "text/plain": [
              "0    5113\n",
              "1    1537\n",
              "Name: Is_Churn, dtype: int64"
            ]
          },
          "metadata": {},
          "execution_count": 81
        }
      ]
    },
    {
      "cell_type": "code",
      "execution_count": 82,
      "metadata": {
        "colab": {
          "base_uri": "https://localhost:8080/"
        },
        "id": "tUcSKIy38djn",
        "outputId": "7fb6f808-27f0-4222-ec1b-b578c4c72ecc"
      },
      "outputs": [
        {
          "output_type": "stream",
          "name": "stdout",
          "text": [
            "<class 'pandas.core.frame.DataFrame'>\n",
            "RangeIndex: 6650 entries, 0 to 6649\n",
            "Data columns (total 11 columns):\n",
            " #   Column              Non-Null Count  Dtype  \n",
            "---  ------              --------------  -----  \n",
            " 0   ID                  6650 non-null   object \n",
            " 1   Age                 6650 non-null   int64  \n",
            " 2   Gender              6650 non-null   object \n",
            " 3   Income              6650 non-null   object \n",
            " 4   Balance             6650 non-null   float64\n",
            " 5   Vintage             6650 non-null   int64  \n",
            " 6   Transaction_Status  6650 non-null   int64  \n",
            " 7   Product_Holdings    6650 non-null   object \n",
            " 8   Credit_Card         6650 non-null   int64  \n",
            " 9   Credit_Category     6650 non-null   object \n",
            " 10  Is_Churn            6650 non-null   int64  \n",
            "dtypes: float64(1), int64(5), object(5)\n",
            "memory usage: 571.6+ KB\n"
          ]
        }
      ],
      "source": [
        "data.info()"
      ]
    },
    {
      "cell_type": "code",
      "execution_count": 83,
      "metadata": {
        "colab": {
          "base_uri": "https://localhost:8080/"
        },
        "id": "04K-rgkl9rAY",
        "outputId": "f4e5aa2d-c07f-4a32-b5f9-f64b1e511642"
      },
      "outputs": [
        {
          "output_type": "execute_result",
          "data": {
            "text/plain": [
              "ID                    False\n",
              "Age                   False\n",
              "Gender                False\n",
              "Income                False\n",
              "Balance               False\n",
              "Vintage               False\n",
              "Transaction_Status    False\n",
              "Product_Holdings      False\n",
              "Credit_Card           False\n",
              "Credit_Category       False\n",
              "Is_Churn              False\n",
              "dtype: bool"
            ]
          },
          "metadata": {},
          "execution_count": 83
        }
      ],
      "source": [
        "data.isnull().any()"
      ]
    },
    {
      "cell_type": "code",
      "execution_count": 84,
      "metadata": {
        "id": "W-zpvPwfDfdo",
        "colab": {
          "base_uri": "https://localhost:8080/",
          "height": 237
        },
        "outputId": "72c75ed4-7c68-4e17-859f-f1c2858a7013"
      },
      "outputs": [
        {
          "output_type": "execute_result",
          "data": {
            "text/plain": [
              "                         Age   Balance   Vintage  Transaction_Status  \\\n",
              "Age                 1.000000  0.002154  0.017353            0.032166   \n",
              "Balance             0.002154  1.000000 -0.019385           -0.005088   \n",
              "Vintage             0.017353 -0.019385  1.000000           -0.027286   \n",
              "Transaction_Status  0.032166 -0.005088 -0.027286            1.000000   \n",
              "Credit_Card         0.012089 -0.025259  0.001856            0.006526   \n",
              "Is_Churn            0.204301  0.056380  0.020152           -0.086917   \n",
              "\n",
              "                    Credit_Card  Is_Churn  \n",
              "Age                    0.012089  0.204301  \n",
              "Balance               -0.025259  0.056380  \n",
              "Vintage                0.001856  0.020152  \n",
              "Transaction_Status     0.006526 -0.086917  \n",
              "Credit_Card            1.000000 -0.000848  \n",
              "Is_Churn              -0.000848  1.000000  "
            ],
            "text/html": [
              "\n",
              "  <div id=\"df-2fea6f9f-dbf7-4aa2-8ad0-40db03040961\">\n",
              "    <div class=\"colab-df-container\">\n",
              "      <div>\n",
              "<style scoped>\n",
              "    .dataframe tbody tr th:only-of-type {\n",
              "        vertical-align: middle;\n",
              "    }\n",
              "\n",
              "    .dataframe tbody tr th {\n",
              "        vertical-align: top;\n",
              "    }\n",
              "\n",
              "    .dataframe thead th {\n",
              "        text-align: right;\n",
              "    }\n",
              "</style>\n",
              "<table border=\"1\" class=\"dataframe\">\n",
              "  <thead>\n",
              "    <tr style=\"text-align: right;\">\n",
              "      <th></th>\n",
              "      <th>Age</th>\n",
              "      <th>Balance</th>\n",
              "      <th>Vintage</th>\n",
              "      <th>Transaction_Status</th>\n",
              "      <th>Credit_Card</th>\n",
              "      <th>Is_Churn</th>\n",
              "    </tr>\n",
              "  </thead>\n",
              "  <tbody>\n",
              "    <tr>\n",
              "      <th>Age</th>\n",
              "      <td>1.000000</td>\n",
              "      <td>0.002154</td>\n",
              "      <td>0.017353</td>\n",
              "      <td>0.032166</td>\n",
              "      <td>0.012089</td>\n",
              "      <td>0.204301</td>\n",
              "    </tr>\n",
              "    <tr>\n",
              "      <th>Balance</th>\n",
              "      <td>0.002154</td>\n",
              "      <td>1.000000</td>\n",
              "      <td>-0.019385</td>\n",
              "      <td>-0.005088</td>\n",
              "      <td>-0.025259</td>\n",
              "      <td>0.056380</td>\n",
              "    </tr>\n",
              "    <tr>\n",
              "      <th>Vintage</th>\n",
              "      <td>0.017353</td>\n",
              "      <td>-0.019385</td>\n",
              "      <td>1.000000</td>\n",
              "      <td>-0.027286</td>\n",
              "      <td>0.001856</td>\n",
              "      <td>0.020152</td>\n",
              "    </tr>\n",
              "    <tr>\n",
              "      <th>Transaction_Status</th>\n",
              "      <td>0.032166</td>\n",
              "      <td>-0.005088</td>\n",
              "      <td>-0.027286</td>\n",
              "      <td>1.000000</td>\n",
              "      <td>0.006526</td>\n",
              "      <td>-0.086917</td>\n",
              "    </tr>\n",
              "    <tr>\n",
              "      <th>Credit_Card</th>\n",
              "      <td>0.012089</td>\n",
              "      <td>-0.025259</td>\n",
              "      <td>0.001856</td>\n",
              "      <td>0.006526</td>\n",
              "      <td>1.000000</td>\n",
              "      <td>-0.000848</td>\n",
              "    </tr>\n",
              "    <tr>\n",
              "      <th>Is_Churn</th>\n",
              "      <td>0.204301</td>\n",
              "      <td>0.056380</td>\n",
              "      <td>0.020152</td>\n",
              "      <td>-0.086917</td>\n",
              "      <td>-0.000848</td>\n",
              "      <td>1.000000</td>\n",
              "    </tr>\n",
              "  </tbody>\n",
              "</table>\n",
              "</div>\n",
              "      <button class=\"colab-df-convert\" onclick=\"convertToInteractive('df-2fea6f9f-dbf7-4aa2-8ad0-40db03040961')\"\n",
              "              title=\"Convert this dataframe to an interactive table.\"\n",
              "              style=\"display:none;\">\n",
              "        \n",
              "  <svg xmlns=\"http://www.w3.org/2000/svg\" height=\"24px\"viewBox=\"0 0 24 24\"\n",
              "       width=\"24px\">\n",
              "    <path d=\"M0 0h24v24H0V0z\" fill=\"none\"/>\n",
              "    <path d=\"M18.56 5.44l.94 2.06.94-2.06 2.06-.94-2.06-.94-.94-2.06-.94 2.06-2.06.94zm-11 1L8.5 8.5l.94-2.06 2.06-.94-2.06-.94L8.5 2.5l-.94 2.06-2.06.94zm10 10l.94 2.06.94-2.06 2.06-.94-2.06-.94-.94-2.06-.94 2.06-2.06.94z\"/><path d=\"M17.41 7.96l-1.37-1.37c-.4-.4-.92-.59-1.43-.59-.52 0-1.04.2-1.43.59L10.3 9.45l-7.72 7.72c-.78.78-.78 2.05 0 2.83L4 21.41c.39.39.9.59 1.41.59.51 0 1.02-.2 1.41-.59l7.78-7.78 2.81-2.81c.8-.78.8-2.07 0-2.86zM5.41 20L4 18.59l7.72-7.72 1.47 1.35L5.41 20z\"/>\n",
              "  </svg>\n",
              "      </button>\n",
              "      \n",
              "  <style>\n",
              "    .colab-df-container {\n",
              "      display:flex;\n",
              "      flex-wrap:wrap;\n",
              "      gap: 12px;\n",
              "    }\n",
              "\n",
              "    .colab-df-convert {\n",
              "      background-color: #E8F0FE;\n",
              "      border: none;\n",
              "      border-radius: 50%;\n",
              "      cursor: pointer;\n",
              "      display: none;\n",
              "      fill: #1967D2;\n",
              "      height: 32px;\n",
              "      padding: 0 0 0 0;\n",
              "      width: 32px;\n",
              "    }\n",
              "\n",
              "    .colab-df-convert:hover {\n",
              "      background-color: #E2EBFA;\n",
              "      box-shadow: 0px 1px 2px rgba(60, 64, 67, 0.3), 0px 1px 3px 1px rgba(60, 64, 67, 0.15);\n",
              "      fill: #174EA6;\n",
              "    }\n",
              "\n",
              "    [theme=dark] .colab-df-convert {\n",
              "      background-color: #3B4455;\n",
              "      fill: #D2E3FC;\n",
              "    }\n",
              "\n",
              "    [theme=dark] .colab-df-convert:hover {\n",
              "      background-color: #434B5C;\n",
              "      box-shadow: 0px 1px 3px 1px rgba(0, 0, 0, 0.15);\n",
              "      filter: drop-shadow(0px 1px 2px rgba(0, 0, 0, 0.3));\n",
              "      fill: #FFFFFF;\n",
              "    }\n",
              "  </style>\n",
              "\n",
              "      <script>\n",
              "        const buttonEl =\n",
              "          document.querySelector('#df-2fea6f9f-dbf7-4aa2-8ad0-40db03040961 button.colab-df-convert');\n",
              "        buttonEl.style.display =\n",
              "          google.colab.kernel.accessAllowed ? 'block' : 'none';\n",
              "\n",
              "        async function convertToInteractive(key) {\n",
              "          const element = document.querySelector('#df-2fea6f9f-dbf7-4aa2-8ad0-40db03040961');\n",
              "          const dataTable =\n",
              "            await google.colab.kernel.invokeFunction('convertToInteractive',\n",
              "                                                     [key], {});\n",
              "          if (!dataTable) return;\n",
              "\n",
              "          const docLinkHtml = 'Like what you see? Visit the ' +\n",
              "            '<a target=\"_blank\" href=https://colab.research.google.com/notebooks/data_table.ipynb>data table notebook</a>'\n",
              "            + ' to learn more about interactive tables.';\n",
              "          element.innerHTML = '';\n",
              "          dataTable['output_type'] = 'display_data';\n",
              "          await google.colab.output.renderOutput(dataTable, element);\n",
              "          const docLink = document.createElement('div');\n",
              "          docLink.innerHTML = docLinkHtml;\n",
              "          element.appendChild(docLink);\n",
              "        }\n",
              "      </script>\n",
              "    </div>\n",
              "  </div>\n",
              "  "
            ]
          },
          "metadata": {},
          "execution_count": 84
        }
      ],
      "source": [
        "data.corr()"
      ]
    },
    {
      "cell_type": "markdown",
      "metadata": {
        "id": "NosCYoGs6yM7"
      },
      "source": [
        "Preprocessing"
      ]
    },
    {
      "cell_type": "code",
      "execution_count": 85,
      "metadata": {
        "id": "NVmPqEZN6wcY"
      },
      "outputs": [],
      "source": [
        "X=data.iloc[:,1:-1]\n",
        "y=data.iloc[:,-1]"
      ]
    },
    {
      "cell_type": "code",
      "source": [
        "y.value_counts()"
      ],
      "metadata": {
        "colab": {
          "base_uri": "https://localhost:8080/"
        },
        "id": "WDO97m7cNI6J",
        "outputId": "b4118964-6be4-45a3-92af-7e84dd1847da"
      },
      "execution_count": 86,
      "outputs": [
        {
          "output_type": "execute_result",
          "data": {
            "text/plain": [
              "0    5113\n",
              "1    1537\n",
              "Name: Is_Churn, dtype: int64"
            ]
          },
          "metadata": {},
          "execution_count": 86
        }
      ]
    },
    {
      "cell_type": "code",
      "execution_count": 87,
      "metadata": {
        "colab": {
          "base_uri": "https://localhost:8080/",
          "height": 424
        },
        "id": "xRWTKppU7WuQ",
        "outputId": "7fc77fd7-99db-457f-b68d-b0b1268999ed"
      },
      "outputs": [
        {
          "output_type": "execute_result",
          "data": {
            "text/plain": [
              "      Age  Gender         Income     Balance  Vintage  Transaction_Status  \\\n",
              "0      36  Female       5L - 10L   563266.44        4                   0   \n",
              "1      53  Female   Less than 5L   875572.11        2                   1   \n",
              "2      35  Female  More than 15L   701607.06        2                   1   \n",
              "3      43  Female  More than 15L  1393922.16        0                   1   \n",
              "4      39  Female  More than 15L   893146.23        1                   1   \n",
              "...   ...     ...            ...         ...      ...                 ...   \n",
              "6645   61    Male       5L - 10L  1354526.19        4                   1   \n",
              "6646   42  Female       5L - 10L   596286.54        3                   1   \n",
              "6647   29    Male   Less than 5L   979298.19        2                   0   \n",
              "6648   66  Female      10L - 15L   395233.65        3                   0   \n",
              "6649   37    Male  More than 15L   826947.27        1                   1   \n",
              "\n",
              "     Product_Holdings  Credit_Card Credit_Category  \n",
              "0                   1            0         Average  \n",
              "1                   1            1            Poor  \n",
              "2                   2            0            Poor  \n",
              "3                   2            1            Poor  \n",
              "4                   1            1            Good  \n",
              "...               ...          ...             ...  \n",
              "6645                2            1            Poor  \n",
              "6646                2            1         Average  \n",
              "6647                2            0            Poor  \n",
              "6648                2            1            Poor  \n",
              "6649                2            0            Good  \n",
              "\n",
              "[6650 rows x 9 columns]"
            ],
            "text/html": [
              "\n",
              "  <div id=\"df-a811bc6f-e4ab-4e7f-88d5-f82e79ed2508\">\n",
              "    <div class=\"colab-df-container\">\n",
              "      <div>\n",
              "<style scoped>\n",
              "    .dataframe tbody tr th:only-of-type {\n",
              "        vertical-align: middle;\n",
              "    }\n",
              "\n",
              "    .dataframe tbody tr th {\n",
              "        vertical-align: top;\n",
              "    }\n",
              "\n",
              "    .dataframe thead th {\n",
              "        text-align: right;\n",
              "    }\n",
              "</style>\n",
              "<table border=\"1\" class=\"dataframe\">\n",
              "  <thead>\n",
              "    <tr style=\"text-align: right;\">\n",
              "      <th></th>\n",
              "      <th>Age</th>\n",
              "      <th>Gender</th>\n",
              "      <th>Income</th>\n",
              "      <th>Balance</th>\n",
              "      <th>Vintage</th>\n",
              "      <th>Transaction_Status</th>\n",
              "      <th>Product_Holdings</th>\n",
              "      <th>Credit_Card</th>\n",
              "      <th>Credit_Category</th>\n",
              "    </tr>\n",
              "  </thead>\n",
              "  <tbody>\n",
              "    <tr>\n",
              "      <th>0</th>\n",
              "      <td>36</td>\n",
              "      <td>Female</td>\n",
              "      <td>5L - 10L</td>\n",
              "      <td>563266.44</td>\n",
              "      <td>4</td>\n",
              "      <td>0</td>\n",
              "      <td>1</td>\n",
              "      <td>0</td>\n",
              "      <td>Average</td>\n",
              "    </tr>\n",
              "    <tr>\n",
              "      <th>1</th>\n",
              "      <td>53</td>\n",
              "      <td>Female</td>\n",
              "      <td>Less than 5L</td>\n",
              "      <td>875572.11</td>\n",
              "      <td>2</td>\n",
              "      <td>1</td>\n",
              "      <td>1</td>\n",
              "      <td>1</td>\n",
              "      <td>Poor</td>\n",
              "    </tr>\n",
              "    <tr>\n",
              "      <th>2</th>\n",
              "      <td>35</td>\n",
              "      <td>Female</td>\n",
              "      <td>More than 15L</td>\n",
              "      <td>701607.06</td>\n",
              "      <td>2</td>\n",
              "      <td>1</td>\n",
              "      <td>2</td>\n",
              "      <td>0</td>\n",
              "      <td>Poor</td>\n",
              "    </tr>\n",
              "    <tr>\n",
              "      <th>3</th>\n",
              "      <td>43</td>\n",
              "      <td>Female</td>\n",
              "      <td>More than 15L</td>\n",
              "      <td>1393922.16</td>\n",
              "      <td>0</td>\n",
              "      <td>1</td>\n",
              "      <td>2</td>\n",
              "      <td>1</td>\n",
              "      <td>Poor</td>\n",
              "    </tr>\n",
              "    <tr>\n",
              "      <th>4</th>\n",
              "      <td>39</td>\n",
              "      <td>Female</td>\n",
              "      <td>More than 15L</td>\n",
              "      <td>893146.23</td>\n",
              "      <td>1</td>\n",
              "      <td>1</td>\n",
              "      <td>1</td>\n",
              "      <td>1</td>\n",
              "      <td>Good</td>\n",
              "    </tr>\n",
              "    <tr>\n",
              "      <th>...</th>\n",
              "      <td>...</td>\n",
              "      <td>...</td>\n",
              "      <td>...</td>\n",
              "      <td>...</td>\n",
              "      <td>...</td>\n",
              "      <td>...</td>\n",
              "      <td>...</td>\n",
              "      <td>...</td>\n",
              "      <td>...</td>\n",
              "    </tr>\n",
              "    <tr>\n",
              "      <th>6645</th>\n",
              "      <td>61</td>\n",
              "      <td>Male</td>\n",
              "      <td>5L - 10L</td>\n",
              "      <td>1354526.19</td>\n",
              "      <td>4</td>\n",
              "      <td>1</td>\n",
              "      <td>2</td>\n",
              "      <td>1</td>\n",
              "      <td>Poor</td>\n",
              "    </tr>\n",
              "    <tr>\n",
              "      <th>6646</th>\n",
              "      <td>42</td>\n",
              "      <td>Female</td>\n",
              "      <td>5L - 10L</td>\n",
              "      <td>596286.54</td>\n",
              "      <td>3</td>\n",
              "      <td>1</td>\n",
              "      <td>2</td>\n",
              "      <td>1</td>\n",
              "      <td>Average</td>\n",
              "    </tr>\n",
              "    <tr>\n",
              "      <th>6647</th>\n",
              "      <td>29</td>\n",
              "      <td>Male</td>\n",
              "      <td>Less than 5L</td>\n",
              "      <td>979298.19</td>\n",
              "      <td>2</td>\n",
              "      <td>0</td>\n",
              "      <td>2</td>\n",
              "      <td>0</td>\n",
              "      <td>Poor</td>\n",
              "    </tr>\n",
              "    <tr>\n",
              "      <th>6648</th>\n",
              "      <td>66</td>\n",
              "      <td>Female</td>\n",
              "      <td>10L - 15L</td>\n",
              "      <td>395233.65</td>\n",
              "      <td>3</td>\n",
              "      <td>0</td>\n",
              "      <td>2</td>\n",
              "      <td>1</td>\n",
              "      <td>Poor</td>\n",
              "    </tr>\n",
              "    <tr>\n",
              "      <th>6649</th>\n",
              "      <td>37</td>\n",
              "      <td>Male</td>\n",
              "      <td>More than 15L</td>\n",
              "      <td>826947.27</td>\n",
              "      <td>1</td>\n",
              "      <td>1</td>\n",
              "      <td>2</td>\n",
              "      <td>0</td>\n",
              "      <td>Good</td>\n",
              "    </tr>\n",
              "  </tbody>\n",
              "</table>\n",
              "<p>6650 rows × 9 columns</p>\n",
              "</div>\n",
              "      <button class=\"colab-df-convert\" onclick=\"convertToInteractive('df-a811bc6f-e4ab-4e7f-88d5-f82e79ed2508')\"\n",
              "              title=\"Convert this dataframe to an interactive table.\"\n",
              "              style=\"display:none;\">\n",
              "        \n",
              "  <svg xmlns=\"http://www.w3.org/2000/svg\" height=\"24px\"viewBox=\"0 0 24 24\"\n",
              "       width=\"24px\">\n",
              "    <path d=\"M0 0h24v24H0V0z\" fill=\"none\"/>\n",
              "    <path d=\"M18.56 5.44l.94 2.06.94-2.06 2.06-.94-2.06-.94-.94-2.06-.94 2.06-2.06.94zm-11 1L8.5 8.5l.94-2.06 2.06-.94-2.06-.94L8.5 2.5l-.94 2.06-2.06.94zm10 10l.94 2.06.94-2.06 2.06-.94-2.06-.94-.94-2.06-.94 2.06-2.06.94z\"/><path d=\"M17.41 7.96l-1.37-1.37c-.4-.4-.92-.59-1.43-.59-.52 0-1.04.2-1.43.59L10.3 9.45l-7.72 7.72c-.78.78-.78 2.05 0 2.83L4 21.41c.39.39.9.59 1.41.59.51 0 1.02-.2 1.41-.59l7.78-7.78 2.81-2.81c.8-.78.8-2.07 0-2.86zM5.41 20L4 18.59l7.72-7.72 1.47 1.35L5.41 20z\"/>\n",
              "  </svg>\n",
              "      </button>\n",
              "      \n",
              "  <style>\n",
              "    .colab-df-container {\n",
              "      display:flex;\n",
              "      flex-wrap:wrap;\n",
              "      gap: 12px;\n",
              "    }\n",
              "\n",
              "    .colab-df-convert {\n",
              "      background-color: #E8F0FE;\n",
              "      border: none;\n",
              "      border-radius: 50%;\n",
              "      cursor: pointer;\n",
              "      display: none;\n",
              "      fill: #1967D2;\n",
              "      height: 32px;\n",
              "      padding: 0 0 0 0;\n",
              "      width: 32px;\n",
              "    }\n",
              "\n",
              "    .colab-df-convert:hover {\n",
              "      background-color: #E2EBFA;\n",
              "      box-shadow: 0px 1px 2px rgba(60, 64, 67, 0.3), 0px 1px 3px 1px rgba(60, 64, 67, 0.15);\n",
              "      fill: #174EA6;\n",
              "    }\n",
              "\n",
              "    [theme=dark] .colab-df-convert {\n",
              "      background-color: #3B4455;\n",
              "      fill: #D2E3FC;\n",
              "    }\n",
              "\n",
              "    [theme=dark] .colab-df-convert:hover {\n",
              "      background-color: #434B5C;\n",
              "      box-shadow: 0px 1px 3px 1px rgba(0, 0, 0, 0.15);\n",
              "      filter: drop-shadow(0px 1px 2px rgba(0, 0, 0, 0.3));\n",
              "      fill: #FFFFFF;\n",
              "    }\n",
              "  </style>\n",
              "\n",
              "      <script>\n",
              "        const buttonEl =\n",
              "          document.querySelector('#df-a811bc6f-e4ab-4e7f-88d5-f82e79ed2508 button.colab-df-convert');\n",
              "        buttonEl.style.display =\n",
              "          google.colab.kernel.accessAllowed ? 'block' : 'none';\n",
              "\n",
              "        async function convertToInteractive(key) {\n",
              "          const element = document.querySelector('#df-a811bc6f-e4ab-4e7f-88d5-f82e79ed2508');\n",
              "          const dataTable =\n",
              "            await google.colab.kernel.invokeFunction('convertToInteractive',\n",
              "                                                     [key], {});\n",
              "          if (!dataTable) return;\n",
              "\n",
              "          const docLinkHtml = 'Like what you see? Visit the ' +\n",
              "            '<a target=\"_blank\" href=https://colab.research.google.com/notebooks/data_table.ipynb>data table notebook</a>'\n",
              "            + ' to learn more about interactive tables.';\n",
              "          element.innerHTML = '';\n",
              "          dataTable['output_type'] = 'display_data';\n",
              "          await google.colab.output.renderOutput(dataTable, element);\n",
              "          const docLink = document.createElement('div');\n",
              "          docLink.innerHTML = docLinkHtml;\n",
              "          element.appendChild(docLink);\n",
              "        }\n",
              "      </script>\n",
              "    </div>\n",
              "  </div>\n",
              "  "
            ]
          },
          "metadata": {},
          "execution_count": 87
        }
      ],
      "source": [
        "X"
      ]
    },
    {
      "cell_type": "code",
      "execution_count": 88,
      "metadata": {
        "colab": {
          "base_uri": "https://localhost:8080/"
        },
        "id": "AdNJ-iQu7XUZ",
        "outputId": "e287595b-4b35-41ec-d454-78ee38b3ef4e"
      },
      "outputs": [
        {
          "output_type": "execute_result",
          "data": {
            "text/plain": [
              "0       1\n",
              "1       0\n",
              "2       0\n",
              "3       1\n",
              "4       1\n",
              "       ..\n",
              "6645    1\n",
              "6646    0\n",
              "6647    0\n",
              "6648    1\n",
              "6649    0\n",
              "Name: Is_Churn, Length: 6650, dtype: int64"
            ]
          },
          "metadata": {},
          "execution_count": 88
        }
      ],
      "source": [
        "y"
      ]
    },
    {
      "cell_type": "code",
      "execution_count": 89,
      "metadata": {
        "colab": {
          "base_uri": "https://localhost:8080/"
        },
        "id": "Rx60lAJS7Y2q",
        "outputId": "dbedf411-2e85-4f59-eb1a-a301a4f72c51"
      },
      "outputs": [
        {
          "output_type": "execute_result",
          "data": {
            "text/plain": [
              "0    5113\n",
              "1    1537\n",
              "Name: Is_Churn, dtype: int64"
            ]
          },
          "metadata": {},
          "execution_count": 89
        }
      ],
      "source": [
        "y.value_counts()"
      ]
    },
    {
      "cell_type": "code",
      "execution_count": 90,
      "metadata": {
        "id": "jvYNBLJi-5Nn",
        "colab": {
          "base_uri": "https://localhost:8080/"
        },
        "outputId": "2cd170bf-847e-4c6e-eec8-e57d1e82f36b"
      },
      "outputs": [
        {
          "output_type": "execute_result",
          "data": {
            "text/plain": [
              "1    3200\n",
              "2    3182\n",
              "3     268\n",
              "Name: Product_Holdings, dtype: int64"
            ]
          },
          "metadata": {},
          "execution_count": 90
        }
      ],
      "source": [
        "X['Product_Holdings']=X['Product_Holdings'].replace('3+',3)\n",
        "X['Product_Holdings']=pd.to_numeric(X['Product_Holdings'])\n",
        "X['Product_Holdings'].value_counts()"
      ]
    },
    {
      "cell_type": "markdown",
      "metadata": {
        "id": "FHNFFPil5dom"
      },
      "source": [
        "Splitting the dataset"
      ]
    },
    {
      "cell_type": "code",
      "execution_count": 107,
      "metadata": {
        "id": "TaQajhIq99mu"
      },
      "outputs": [],
      "source": [
        "X_train,X_test,y_train,y_test=train_test_split(X,y,test_size=0.2,stratify=y,random_state=1)"
      ]
    },
    {
      "cell_type": "code",
      "source": [
        "y_train.value_counts()"
      ],
      "metadata": {
        "colab": {
          "base_uri": "https://localhost:8080/"
        },
        "id": "p0N6xD_MNMLi",
        "outputId": "dc4a7ae8-adfa-4ca0-9b8d-d1a634684428"
      },
      "execution_count": 138,
      "outputs": [
        {
          "output_type": "execute_result",
          "data": {
            "text/plain": [
              "0    4090\n",
              "1    1230\n",
              "Name: Is_Churn, dtype: int64"
            ]
          },
          "metadata": {},
          "execution_count": 138
        }
      ]
    },
    {
      "cell_type": "code",
      "execution_count": 109,
      "metadata": {
        "colab": {
          "base_uri": "https://localhost:8080/"
        },
        "id": "AGB2JJn_-JuD",
        "outputId": "e676ad94-e062-4cff-9ee0-5acc4de7b4d5"
      },
      "outputs": [
        {
          "output_type": "stream",
          "name": "stdout",
          "text": [
            "(5320, 9) (1330, 9) (5320,) (1330,)\n"
          ]
        }
      ],
      "source": [
        "print(X_train.shape,X_test.shape,y_train.shape,y_test.shape)"
      ]
    },
    {
      "cell_type": "code",
      "execution_count": 110,
      "metadata": {
        "colab": {
          "base_uri": "https://localhost:8080/"
        },
        "id": "9YXrWSs_AhJK",
        "outputId": "d34bc009-4247-43aa-edcc-4d38439b0f13"
      },
      "outputs": [
        {
          "output_type": "execute_result",
          "data": {
            "text/plain": [
              "Age                     int64\n",
              "Gender                 object\n",
              "Income                 object\n",
              "Balance               float64\n",
              "Vintage                 int64\n",
              "Transaction_Status      int64\n",
              "Product_Holdings        int64\n",
              "Credit_Card             int64\n",
              "Credit_Category        object\n",
              "dtype: object"
            ]
          },
          "metadata": {},
          "execution_count": 110
        }
      ],
      "source": [
        "X.dtypes"
      ]
    },
    {
      "cell_type": "code",
      "execution_count": 111,
      "metadata": {
        "colab": {
          "base_uri": "https://localhost:8080/"
        },
        "id": "FyEoB9qVMIQD",
        "outputId": "786ae6b6-1d1f-4aa2-f5e6-bb7e452b483d"
      },
      "outputs": [
        {
          "output_type": "execute_result",
          "data": {
            "text/plain": [
              "Male      3612\n",
              "Female    3038\n",
              "Name: Gender, dtype: int64"
            ]
          },
          "metadata": {},
          "execution_count": 111
        }
      ],
      "source": [
        "X['Gender'].value_counts()"
      ]
    },
    {
      "cell_type": "code",
      "execution_count": 112,
      "metadata": {
        "id": "AJOv-GVeMMtQ"
      },
      "outputs": [],
      "source": [
        "le=LabelEncoder()\n",
        "X_train['Gender']=le.fit_transform(X_train['Gender'])\n",
        "X_test['Gender']=le.transform(X_test['Gender'])"
      ]
    },
    {
      "cell_type": "code",
      "execution_count": 113,
      "metadata": {
        "colab": {
          "base_uri": "https://localhost:8080/"
        },
        "id": "ulvLibwTAfLH",
        "outputId": "0a60dd78-9643-42ee-b8ce-acd5580b7431"
      },
      "outputs": [
        {
          "output_type": "execute_result",
          "data": {
            "text/plain": [
              "['Income', 'Credit_Category']"
            ]
          },
          "metadata": {},
          "execution_count": 113
        }
      ],
      "source": [
        "col_ohe=[col for col in X.columns if X_train[col].dtypes=='object']\n",
        "col_ohe"
      ]
    },
    {
      "cell_type": "code",
      "execution_count": 114,
      "metadata": {
        "id": "k9uafYPV9NF-"
      },
      "outputs": [],
      "source": [
        "ohe=OneHotEncoder(handle_unknown='ignore')\n",
        "train_enc=ohe.fit_transform(X_train[col_ohe]).toarray()\n",
        "test_enc=ohe.transform(X_test[col_ohe]).toarray()"
      ]
    },
    {
      "cell_type": "code",
      "execution_count": 115,
      "metadata": {
        "colab": {
          "base_uri": "https://localhost:8080/"
        },
        "id": "UWCkfwOb-htw",
        "outputId": "8c003308-6385-44b2-ed42-e1726f98c149"
      },
      "outputs": [
        {
          "output_type": "execute_result",
          "data": {
            "text/plain": [
              "['10L - 15L',\n",
              " '5L - 10L',\n",
              " 'Less than 5L',\n",
              " 'More than 15L',\n",
              " 'Average',\n",
              " 'Good',\n",
              " 'Poor']"
            ]
          },
          "metadata": {},
          "execution_count": 115
        }
      ],
      "source": [
        "items=ohe.categories_\n",
        "cols=[]\n",
        "for c in items:\n",
        "  cols.extend(c)\n",
        "cols"
      ]
    },
    {
      "cell_type": "code",
      "execution_count": 116,
      "metadata": {
        "id": "PyVL5cxVBNRu"
      },
      "outputs": [],
      "source": [
        "train_enc_df=pd.DataFrame(train_enc,columns=cols,index=X_train.index)\n",
        "test_enc_df=pd.DataFrame(test_enc,columns=cols,index=X_test.index)"
      ]
    },
    {
      "cell_type": "code",
      "execution_count": 117,
      "metadata": {
        "id": "7wwYlNHdCLny"
      },
      "outputs": [],
      "source": [
        "X_train=X_train.drop(col_ohe,axis=1)\n",
        "X_test=X_test.drop(col_ohe,axis=1)"
      ]
    },
    {
      "cell_type": "code",
      "execution_count": 118,
      "metadata": {
        "id": "Va9maT0bGGLi"
      },
      "outputs": [],
      "source": [
        "X_train=pd.concat([X_train,train_enc_df],axis=1)\n",
        "X_test=pd.concat([X_test,test_enc_df],axis=1)"
      ]
    },
    {
      "cell_type": "markdown",
      "metadata": {
        "id": "llIfAG53IDc4"
      },
      "source": [
        "Standardization"
      ]
    },
    {
      "cell_type": "code",
      "execution_count": 119,
      "metadata": {
        "id": "RlgB0WlhHoOR"
      },
      "outputs": [],
      "source": [
        "ss=StandardScaler()\n",
        "X_train_ss=ss.fit_transform(X_train)\n",
        "X_test_ss=ss.transform(X_test)"
      ]
    },
    {
      "cell_type": "markdown",
      "metadata": {
        "id": "hnOSGAI3Ix6u"
      },
      "source": [
        "Min max scaler"
      ]
    },
    {
      "cell_type": "code",
      "execution_count": 28,
      "metadata": {
        "id": "09arRJhbIxfi"
      },
      "outputs": [],
      "source": [
        "# mms=MinMaxScaler()\n",
        "# X_train_mms=mms.fit_transform(X_train)\n",
        "# X_test_mms=mms.transform(X_test)"
      ]
    },
    {
      "cell_type": "markdown",
      "metadata": {
        "id": "lmwBRrdJ6N3P"
      },
      "source": [
        "K-fold validation"
      ]
    },
    {
      "cell_type": "code",
      "execution_count": null,
      "metadata": {
        "id": "_G5wRI_16Rt2"
      },
      "outputs": [],
      "source": [
        "from sklearn.model_selection import cross_val_score\n",
        "from sklearn.svm import SVC\n",
        "clf = SVC(kernel='linear', C=1, random_state=42)"
      ]
    },
    {
      "cell_type": "code",
      "execution_count": null,
      "metadata": {
        "id": "mnPleAII6f0_"
      },
      "outputs": [],
      "source": [
        "scores=cross_val_score(clf,X_train_mms,y_train,cv=100)\n",
        "scores"
      ]
    },
    {
      "cell_type": "markdown",
      "metadata": {
        "id": "1XPMxRsxJmUe"
      },
      "source": [
        "Model"
      ]
    },
    {
      "cell_type": "code",
      "execution_count": null,
      "metadata": {
        "colab": {
          "base_uri": "https://localhost:8080/"
        },
        "id": "93l4Es4QJlqj",
        "outputId": "1c8c5e7b-c0f2-4aa9-ba0b-ff8bbc11f10c"
      },
      "outputs": [
        {
          "name": "stdout",
          "output_type": "stream",
          "text": [
            "Accuracy :  0.7646616541353384\n"
          ]
        }
      ],
      "source": [
        "log_reg=LogisticRegression()\n",
        "log_reg.fit(X_train_mms,y_train)\n",
        "test_pred=log_reg.predict(X_test_mms)\n",
        "print(\"Accuracy : \",accuracy_score(y_test,test_pred))"
      ]
    },
    {
      "cell_type": "code",
      "execution_count": null,
      "metadata": {
        "colab": {
          "base_uri": "https://localhost:8080/"
        },
        "id": "Bg4J0oiK8QbJ",
        "outputId": "e2819283-0406-4e83-b34f-5589074273bc"
      },
      "outputs": [
        {
          "name": "stdout",
          "output_type": "stream",
          "text": [
            "Accuracy :  0.7563909774436091\n"
          ]
        }
      ],
      "source": [
        "rf=RandomForestClassifier()\n",
        "rf.fit(X_train_mms,y_train)\n",
        "test_pred_rf=rf.predict(X_test_mms)\n",
        "print(\"Accuracy : \",accuracy_score(y_test,test_pred_rf))"
      ]
    },
    {
      "cell_type": "code",
      "execution_count": null,
      "metadata": {
        "colab": {
          "base_uri": "https://localhost:8080/"
        },
        "id": "ZJQSqzbZ8pW6",
        "outputId": "daa239ee-2a5d-46cd-a16e-9647222a6c7d"
      },
      "outputs": [
        {
          "name": "stdout",
          "output_type": "stream",
          "text": [
            "Accuracy :  0.6481203007518797\n"
          ]
        }
      ],
      "source": [
        "dt=DecisionTreeClassifier()\n",
        "dt.fit(X_train_mms,y_train)\n",
        "test_pred_dt=dt.predict(X_test_mms)\n",
        "print(\"Accuracy : \",accuracy_score(y_test,test_pred_dt))"
      ]
    },
    {
      "cell_type": "markdown",
      "metadata": {
        "id": "jvWDFLu09QKK"
      },
      "source": [
        "GridSearchCV on SVM"
      ]
    },
    {
      "cell_type": "code",
      "execution_count": null,
      "metadata": {
        "colab": {
          "background_save": true
        },
        "id": "7Z145mDG9HZK",
        "outputId": "f89ae56d-14f1-4919-e2ad-7a971eacb257"
      },
      "outputs": [
        {
          "data": {
            "text/plain": [
              "0.768796992481203"
            ]
          },
          "execution_count": 87,
          "metadata": {},
          "output_type": "execute_result"
        }
      ],
      "source": [
        "from sklearn import svm\n",
        "from sklearn.model_selection import GridSearchCV\n",
        "params={'C':[1,10,50,100,200,500,1000],'kernel':['linear','rbf','sigmoid']}\n",
        "svc=svm.SVC()\n",
        "clf=GridSearchCV(svc,params)\n",
        "clf.fit(X_train_mms,y_train)\n",
        "clf.best_score_"
      ]
    },
    {
      "cell_type": "code",
      "source": [
        "X_train_ss"
      ],
      "metadata": {
        "colab": {
          "base_uri": "https://localhost:8080/"
        },
        "id": "934khnbtLHEf",
        "outputId": "c1029708-1487-4558-af8e-504dc3af91e1"
      },
      "execution_count": 63,
      "outputs": [
        {
          "output_type": "execute_result",
          "data": {
            "text/plain": [
              "array([[ 0.91040624,  0.91870605,  0.58349632, ...,  1.51194544,\n",
              "        -0.55100096, -0.92813877],\n",
              "       [-0.0143111 ,  0.91870605, -1.35790673, ..., -0.66139953,\n",
              "        -0.55100096,  1.0774251 ],\n",
              "       [ 0.70491349, -1.08848745,  0.83676161, ..., -0.66139953,\n",
              "         1.81487887, -0.92813877],\n",
              "       ...,\n",
              "       [-0.32255021, -1.08848745, -0.4999646 , ..., -0.66139953,\n",
              "        -0.55100096,  1.0774251 ],\n",
              "       [-0.63078933,  0.91870605, -1.12408438, ..., -0.66139953,\n",
              "         1.81487887, -0.92813877],\n",
              "       [-1.04177481,  0.91870605,  0.86598666, ..., -0.66139953,\n",
              "        -0.55100096,  1.0774251 ]])"
            ]
          },
          "metadata": {},
          "execution_count": 63
        }
      ]
    },
    {
      "cell_type": "markdown",
      "metadata": {
        "id": "8hUBVhGx6xOV"
      },
      "source": [
        "ANN"
      ]
    },
    {
      "cell_type": "code",
      "execution_count": 126,
      "metadata": {
        "id": "IwFuhnIbJZTO"
      },
      "outputs": [],
      "source": [
        "import tensorflow as tf\n",
        "model=tf.keras.Sequential([\n",
        "    tf.keras.layers.Dense(units=16,activation='relu',input_shape=(X_train.shape[1],)),\n",
        "    tf.keras.layers.Dense(units=32,activation='relu'),\n",
        "    tf.keras.layers.Dense(units=64,activation='relu'),\n",
        "    tf.keras.layers.Dense(units=1,activation='sigmoid')\n",
        "])\n"
      ]
    },
    {
      "cell_type": "code",
      "execution_count": 127,
      "metadata": {
        "id": "DctPTIHsNqev"
      },
      "outputs": [],
      "source": [
        "model.compile(optimizer='adam',loss='binary_crossentropy',metrics=['accuracy'])"
      ]
    },
    {
      "cell_type": "code",
      "execution_count": 139,
      "metadata": {
        "colab": {
          "base_uri": "https://localhost:8080/"
        },
        "id": "qEiucsUpOH_G",
        "outputId": "c450376f-6ab6-4d07-bc37-0bd4bf810140"
      },
      "outputs": [
        {
          "output_type": "stream",
          "name": "stdout",
          "text": [
            "Epoch 1/20\n",
            "167/167 [==============================] - 1s 4ms/step - loss: 0.3772 - accuracy: 0.8318 - val_loss: 0.6602 - val_accuracy: 0.7376\n",
            "Epoch 2/20\n",
            "167/167 [==============================] - 0s 3ms/step - loss: 0.3764 - accuracy: 0.8280 - val_loss: 0.6669 - val_accuracy: 0.7218\n",
            "Epoch 3/20\n",
            "167/167 [==============================] - 0s 2ms/step - loss: 0.3737 - accuracy: 0.8325 - val_loss: 0.6670 - val_accuracy: 0.7203\n",
            "Epoch 4/20\n",
            "167/167 [==============================] - 0s 2ms/step - loss: 0.3732 - accuracy: 0.8284 - val_loss: 0.6709 - val_accuracy: 0.7211\n",
            "Epoch 5/20\n",
            "167/167 [==============================] - 0s 2ms/step - loss: 0.3726 - accuracy: 0.8314 - val_loss: 0.6757 - val_accuracy: 0.7233\n",
            "Epoch 6/20\n",
            "167/167 [==============================] - 0s 2ms/step - loss: 0.3706 - accuracy: 0.8346 - val_loss: 0.6692 - val_accuracy: 0.7301\n",
            "Epoch 7/20\n",
            "167/167 [==============================] - 0s 2ms/step - loss: 0.3714 - accuracy: 0.8301 - val_loss: 0.6845 - val_accuracy: 0.7406\n",
            "Epoch 8/20\n",
            "167/167 [==============================] - 0s 2ms/step - loss: 0.3707 - accuracy: 0.8323 - val_loss: 0.6820 - val_accuracy: 0.7105\n",
            "Epoch 9/20\n",
            "167/167 [==============================] - 0s 2ms/step - loss: 0.3705 - accuracy: 0.8323 - val_loss: 0.6775 - val_accuracy: 0.7203\n",
            "Epoch 10/20\n",
            "167/167 [==============================] - 0s 2ms/step - loss: 0.3682 - accuracy: 0.8350 - val_loss: 0.6860 - val_accuracy: 0.7158\n",
            "Epoch 11/20\n",
            "167/167 [==============================] - 0s 2ms/step - loss: 0.3665 - accuracy: 0.8336 - val_loss: 0.6884 - val_accuracy: 0.7308\n",
            "Epoch 12/20\n",
            "167/167 [==============================] - 0s 2ms/step - loss: 0.3701 - accuracy: 0.8320 - val_loss: 0.6833 - val_accuracy: 0.7008\n",
            "Epoch 13/20\n",
            "167/167 [==============================] - 0s 2ms/step - loss: 0.3655 - accuracy: 0.8312 - val_loss: 0.6878 - val_accuracy: 0.7256\n",
            "Epoch 14/20\n",
            "167/167 [==============================] - 0s 2ms/step - loss: 0.3648 - accuracy: 0.8310 - val_loss: 0.6887 - val_accuracy: 0.7038\n",
            "Epoch 15/20\n",
            "167/167 [==============================] - 0s 2ms/step - loss: 0.3623 - accuracy: 0.8352 - val_loss: 0.6912 - val_accuracy: 0.7248\n",
            "Epoch 16/20\n",
            "167/167 [==============================] - 0s 2ms/step - loss: 0.3644 - accuracy: 0.8378 - val_loss: 0.6964 - val_accuracy: 0.7060\n",
            "Epoch 17/20\n",
            "167/167 [==============================] - 0s 2ms/step - loss: 0.3626 - accuracy: 0.8382 - val_loss: 0.7004 - val_accuracy: 0.7211\n",
            "Epoch 18/20\n",
            "167/167 [==============================] - 0s 2ms/step - loss: 0.3632 - accuracy: 0.8348 - val_loss: 0.7001 - val_accuracy: 0.7030\n",
            "Epoch 19/20\n",
            "167/167 [==============================] - 0s 2ms/step - loss: 0.3611 - accuracy: 0.8320 - val_loss: 0.7106 - val_accuracy: 0.7165\n",
            "Epoch 20/20\n",
            "167/167 [==============================] - 0s 2ms/step - loss: 0.3599 - accuracy: 0.8346 - val_loss: 0.6983 - val_accuracy: 0.7038\n"
          ]
        }
      ],
      "source": [
        "trained_model=model.fit(X_train_ss,y_train,validation_data=(X_test_ss,y_test),epochs=20)"
      ]
    },
    {
      "cell_type": "code",
      "source": [
        "model.summary()"
      ],
      "metadata": {
        "colab": {
          "base_uri": "https://localhost:8080/"
        },
        "id": "pyHE-f6LJz8Y",
        "outputId": "ab7e2359-e040-4da6-cee3-93a71eb14a95"
      },
      "execution_count": 140,
      "outputs": [
        {
          "output_type": "stream",
          "name": "stdout",
          "text": [
            "Model: \"sequential_2\"\n",
            "_________________________________________________________________\n",
            " Layer (type)                Output Shape              Param #   \n",
            "=================================================================\n",
            " dense_8 (Dense)             (None, 16)                240       \n",
            "                                                                 \n",
            " dense_9 (Dense)             (None, 32)                544       \n",
            "                                                                 \n",
            " dense_10 (Dense)            (None, 64)                2112      \n",
            "                                                                 \n",
            " dense_11 (Dense)            (None, 1)                 65        \n",
            "                                                                 \n",
            "=================================================================\n",
            "Total params: 2,961\n",
            "Trainable params: 2,961\n",
            "Non-trainable params: 0\n",
            "_________________________________________________________________\n"
          ]
        }
      ]
    },
    {
      "cell_type": "code",
      "execution_count": 141,
      "metadata": {
        "colab": {
          "base_uri": "https://localhost:8080/"
        },
        "id": "6_Fh--5tcKYp",
        "outputId": "b121ba7d-c821-4e11-aa5d-e57b79a582d8"
      },
      "outputs": [
        {
          "output_type": "stream",
          "name": "stdout",
          "text": [
            "42/42 [==============================] - 0s 2ms/step - loss: 136541.1406 - accuracy: 0.7692\n",
            "42/42 [==============================] - 0s 2ms/step - loss: 136541.1406 - accuracy: 0.7692\n",
            "Testing accuracy : 0.7691729068756104\n",
            "42/42 [==============================] - 0s 2ms/step - loss: 136541.1406 - accuracy: 0.7692\n",
            "Testing loss : 136541.140625\n"
          ]
        }
      ],
      "source": [
        "model.evaluate(X_test,y_test)\n",
        "print(\"Testing accuracy :\",model.evaluate(X_test,y_test)[1])\n",
        "print(\"Testing loss :\",model.evaluate(X_test,y_test)[0])"
      ]
    },
    {
      "cell_type": "code",
      "execution_count": 142,
      "metadata": {
        "id": "XI7zJI_j7pkq",
        "colab": {
          "base_uri": "https://localhost:8080/",
          "height": 458
        },
        "outputId": "5178a722-abcc-45ea-bbb0-2e8c29d34c4e"
      },
      "outputs": [
        {
          "output_type": "display_data",
          "data": {
            "text/plain": [
              "<Figure size 864x504 with 1 Axes>"
            ],
            "image/png": "[encoded data removed]"
          },
          "metadata": {
            "needs_background": "light"
          }
        }
      ],
      "source": [
        "plt.figure(figsize=(12,7))\n",
        "plt.plot(trained_model.history['accuracy'],label='Training accuracy',color='red')\n",
        "plt.plot(trained_model.history['val_accuracy'],label='Testing accuracy',color='green')\n",
        "plt.legend()\n",
        "plt.xlabel('No of Epoch')\n",
        "plt.ylabel('Accuracy')\n",
        "plt.title(\"Accuracy vs Epoch\")\n",
        "plt.show()\n"
      ]
    },
    {
      "cell_type": "code",
      "source": [
        "y_pred_prob=model.predict(X_test_ss)\n",
        "y_pred=np.where(y_pred_prob>0.5,1,0)"
      ],
      "metadata": {
        "id": "Ynu08gaAMdMO"
      },
      "execution_count": 135,
      "outputs": []
    },
    {
      "cell_type": "code",
      "source": [
        "from sklearn.metrics import classification_report\n",
        "from sklearn.metrics import confusion_matrix\n",
        "print(classification_report(y_test,y_pred))\n",
        "print(confusion_matrix(y_test,y_pred))"
      ],
      "metadata": {
        "colab": {
          "base_uri": "https://localhost:8080/"
        },
        "id": "BRRPBZagMkJz",
        "outputId": "87698f76-f40e-4cbb-dff1-7e2638bbce7c"
      },
      "execution_count": 136,
      "outputs": [
        {
          "output_type": "stream",
          "name": "stdout",
          "text": [
            "              precision    recall  f1-score   support\n",
            "\n",
            "           0       0.78      0.89      0.83      1023\n",
            "           1       0.32      0.18      0.23       307\n",
            "\n",
            "    accuracy                           0.72      1330\n",
            "   macro avg       0.55      0.53      0.53      1330\n",
            "weighted avg       0.68      0.72      0.69      1330\n",
            "\n",
            "[[906 117]\n",
            " [251  56]]\n"
          ]
        }
      ]
    },
    {
      "cell_type": "code",
      "source": [
        "import seaborn as sns\n",
        "plt.figure(figsize=(7,5))\n",
        "sns.heatmap(confusion_matrix(y_test,y_pred),annot=True,cmap=\"OrRd_r\",\n",
        "            fmt=\"d\",cbar=True,\n",
        "            annot_kws={\"fontsize\":15})\n",
        "plt.xlabel(\"Actual Result\")\n",
        "plt.ylabel(\"Predicted Result\")\n",
        "plt.show()"
      ],
      "metadata": {
        "colab": {
          "base_uri": "https://localhost:8080/",
          "height": 336
        },
        "id": "EDWxw0DzMkdb",
        "outputId": "51fb0b75-953a-458d-e805-7b741d9a31a7"
      },
      "execution_count": 137,
      "outputs": [
        {
          "output_type": "display_data",
          "data": {
            "text/plain": [
              "<Figure size 504x360 with 2 Axes>"
            ],
            "image/png": "[encoded data removed]"
          },
          "metadata": {
            "needs_background": "light"
          }
        }
      ]
    },
    {
      "cell_type": "code",
      "source": [
        "y_train.value_counts()"
      ],
      "metadata": {
        "colab": {
          "base_uri": "https://localhost:8080/"
        },
        "id": "1rk1I6zjQUzI",
        "outputId": "4a8f1d4a-5038-426e-e489-0c8b7968f402"
      },
      "execution_count": 143,
      "outputs": [
        {
          "output_type": "execute_result",
          "data": {
            "text/plain": [
              "0    4090\n",
              "1    1230\n",
              "Name: Is_Churn, dtype: int64"
            ]
          },
          "metadata": {},
          "execution_count": 143
        }
      ]
    },
    {
      "cell_type": "code",
      "source": [
        "from imblearn.datasets import make_imbalance\n",
        "X_train_bal, y_train_bal = make_imbalance(X_train_ss, y_train, sampling_strategy={0: 1500, 1: 1230},random_state=14)\n"
      ],
      "metadata": {
        "id": "8wi4GchlNAMK"
      },
      "execution_count": 145,
      "outputs": []
    },
    {
      "cell_type": "code",
      "source": [
        "trained_model_bal=model.fit(X_train_bal,y_train_bal,validation_data=(X_test_ss,y_test),epochs=100)"
      ],
      "metadata": {
        "colab": {
          "base_uri": "https://localhost:8080/"
        },
        "id": "BewSDiKcQZ4_",
        "outputId": "511f5723-81aa-43e3-daf2-8fbce9f41928"
      },
      "execution_count": 147,
      "outputs": [
        {
          "output_type": "stream",
          "name": "stdout",
          "text": [
            "Epoch 1/100\n",
            "86/86 [==============================] - 0s 5ms/step - loss: 0.3827 - accuracy: 0.8330 - val_loss: 0.8042 - val_accuracy: 0.6489\n",
            "Epoch 2/100\n",
            "86/86 [==============================] - 0s 4ms/step - loss: 0.3822 - accuracy: 0.8242 - val_loss: 0.8553 - val_accuracy: 0.6143\n",
            "Epoch 3/100\n",
            "86/86 [==============================] - 0s 3ms/step - loss: 0.3795 - accuracy: 0.8322 - val_loss: 0.8981 - val_accuracy: 0.5992\n",
            "Epoch 4/100\n",
            "86/86 [==============================] - 0s 3ms/step - loss: 0.3772 - accuracy: 0.8337 - val_loss: 0.8585 - val_accuracy: 0.6105\n",
            "Epoch 5/100\n",
            "86/86 [==============================] - 0s 3ms/step - loss: 0.3761 - accuracy: 0.8245 - val_loss: 0.8755 - val_accuracy: 0.6075\n",
            "Epoch 6/100\n",
            "86/86 [==============================] - 0s 3ms/step - loss: 0.3711 - accuracy: 0.8308 - val_loss: 0.8737 - val_accuracy: 0.6098\n",
            "Epoch 7/100\n",
            "86/86 [==============================] - 0s 3ms/step - loss: 0.3716 - accuracy: 0.8330 - val_loss: 0.8514 - val_accuracy: 0.6180\n",
            "Epoch 8/100\n",
            "86/86 [==============================] - 0s 3ms/step - loss: 0.3668 - accuracy: 0.8385 - val_loss: 0.8656 - val_accuracy: 0.6150\n",
            "Epoch 9/100\n",
            "86/86 [==============================] - 0s 2ms/step - loss: 0.3680 - accuracy: 0.8385 - val_loss: 0.8967 - val_accuracy: 0.6128\n",
            "Epoch 10/100\n",
            "86/86 [==============================] - 0s 2ms/step - loss: 0.3638 - accuracy: 0.8447 - val_loss: 0.8774 - val_accuracy: 0.6120\n",
            "Epoch 11/100\n",
            "86/86 [==============================] - 0s 3ms/step - loss: 0.3633 - accuracy: 0.8352 - val_loss: 0.8647 - val_accuracy: 0.6158\n",
            "Epoch 12/100\n",
            "86/86 [==============================] - 0s 3ms/step - loss: 0.3608 - accuracy: 0.8447 - val_loss: 0.8906 - val_accuracy: 0.6173\n",
            "Epoch 13/100\n",
            "86/86 [==============================] - 0s 3ms/step - loss: 0.3574 - accuracy: 0.8374 - val_loss: 0.8519 - val_accuracy: 0.6383\n",
            "Epoch 14/100\n",
            "86/86 [==============================] - 0s 2ms/step - loss: 0.3551 - accuracy: 0.8462 - val_loss: 0.8836 - val_accuracy: 0.6188\n",
            "Epoch 15/100\n",
            "86/86 [==============================] - 0s 2ms/step - loss: 0.3540 - accuracy: 0.8465 - val_loss: 0.8908 - val_accuracy: 0.6165\n",
            "Epoch 16/100\n",
            "86/86 [==============================] - 0s 2ms/step - loss: 0.3531 - accuracy: 0.8454 - val_loss: 0.8633 - val_accuracy: 0.6383\n",
            "Epoch 17/100\n",
            "86/86 [==============================] - 0s 3ms/step - loss: 0.3542 - accuracy: 0.8458 - val_loss: 0.9367 - val_accuracy: 0.5947\n",
            "Epoch 18/100\n",
            "86/86 [==============================] - 0s 2ms/step - loss: 0.3535 - accuracy: 0.8447 - val_loss: 0.9053 - val_accuracy: 0.5992\n",
            "Epoch 19/100\n",
            "86/86 [==============================] - 0s 2ms/step - loss: 0.3487 - accuracy: 0.8454 - val_loss: 0.8790 - val_accuracy: 0.6474\n",
            "Epoch 20/100\n",
            "86/86 [==============================] - 0s 3ms/step - loss: 0.3480 - accuracy: 0.8524 - val_loss: 0.8632 - val_accuracy: 0.6361\n",
            "Epoch 21/100\n",
            "86/86 [==============================] - 0s 3ms/step - loss: 0.3485 - accuracy: 0.8495 - val_loss: 0.8617 - val_accuracy: 0.6571\n",
            "Epoch 22/100\n",
            "86/86 [==============================] - 0s 2ms/step - loss: 0.3426 - accuracy: 0.8553 - val_loss: 0.8942 - val_accuracy: 0.6211\n",
            "Epoch 23/100\n",
            "86/86 [==============================] - 0s 2ms/step - loss: 0.3421 - accuracy: 0.8484 - val_loss: 0.8966 - val_accuracy: 0.6271\n",
            "Epoch 24/100\n",
            "86/86 [==============================] - 0s 3ms/step - loss: 0.3381 - accuracy: 0.8575 - val_loss: 0.9474 - val_accuracy: 0.5895\n",
            "Epoch 25/100\n",
            "86/86 [==============================] - 0s 3ms/step - loss: 0.3390 - accuracy: 0.8557 - val_loss: 0.9430 - val_accuracy: 0.5992\n",
            "Epoch 26/100\n",
            "86/86 [==============================] - 0s 2ms/step - loss: 0.3415 - accuracy: 0.8516 - val_loss: 0.9170 - val_accuracy: 0.6278\n",
            "Epoch 27/100\n",
            "86/86 [==============================] - 0s 3ms/step - loss: 0.3352 - accuracy: 0.8597 - val_loss: 0.9199 - val_accuracy: 0.6203\n",
            "Epoch 28/100\n",
            "86/86 [==============================] - 0s 3ms/step - loss: 0.3380 - accuracy: 0.8495 - val_loss: 0.9670 - val_accuracy: 0.5932\n",
            "Epoch 29/100\n",
            "86/86 [==============================] - 0s 3ms/step - loss: 0.3315 - accuracy: 0.8538 - val_loss: 0.9651 - val_accuracy: 0.5955\n",
            "Epoch 30/100\n",
            "86/86 [==============================] - 0s 2ms/step - loss: 0.3298 - accuracy: 0.8586 - val_loss: 0.9558 - val_accuracy: 0.5977\n",
            "Epoch 31/100\n",
            "86/86 [==============================] - 0s 2ms/step - loss: 0.3278 - accuracy: 0.8601 - val_loss: 0.9266 - val_accuracy: 0.6256\n",
            "Epoch 32/100\n",
            "86/86 [==============================] - 0s 3ms/step - loss: 0.3247 - accuracy: 0.8586 - val_loss: 0.9346 - val_accuracy: 0.6173\n",
            "Epoch 33/100\n",
            "86/86 [==============================] - 0s 3ms/step - loss: 0.3278 - accuracy: 0.8571 - val_loss: 0.9290 - val_accuracy: 0.6293\n",
            "Epoch 34/100\n",
            "86/86 [==============================] - 0s 3ms/step - loss: 0.3225 - accuracy: 0.8608 - val_loss: 0.9472 - val_accuracy: 0.6180\n",
            "Epoch 35/100\n",
            "86/86 [==============================] - 0s 3ms/step - loss: 0.3227 - accuracy: 0.8619 - val_loss: 0.9651 - val_accuracy: 0.6068\n",
            "Epoch 36/100\n",
            "86/86 [==============================] - 0s 3ms/step - loss: 0.3196 - accuracy: 0.8623 - val_loss: 0.9747 - val_accuracy: 0.6045\n",
            "Epoch 37/100\n",
            "86/86 [==============================] - 0s 3ms/step - loss: 0.3253 - accuracy: 0.8586 - val_loss: 1.0050 - val_accuracy: 0.5880\n",
            "Epoch 38/100\n",
            "86/86 [==============================] - 0s 2ms/step - loss: 0.3188 - accuracy: 0.8623 - val_loss: 0.9815 - val_accuracy: 0.6083\n",
            "Epoch 39/100\n",
            "86/86 [==============================] - 0s 2ms/step - loss: 0.3132 - accuracy: 0.8689 - val_loss: 0.9951 - val_accuracy: 0.6060\n",
            "Epoch 40/100\n",
            "86/86 [==============================] - 0s 3ms/step - loss: 0.3129 - accuracy: 0.8703 - val_loss: 0.9368 - val_accuracy: 0.6203\n",
            "Epoch 41/100\n",
            "86/86 [==============================] - 0s 3ms/step - loss: 0.3112 - accuracy: 0.8696 - val_loss: 0.9930 - val_accuracy: 0.6083\n",
            "Epoch 42/100\n",
            "86/86 [==============================] - 0s 2ms/step - loss: 0.3136 - accuracy: 0.8707 - val_loss: 1.0855 - val_accuracy: 0.5767\n",
            "Epoch 43/100\n",
            "86/86 [==============================] - 0s 3ms/step - loss: 0.3079 - accuracy: 0.8674 - val_loss: 1.0347 - val_accuracy: 0.5910\n",
            "Epoch 44/100\n",
            "86/86 [==============================] - 0s 2ms/step - loss: 0.3060 - accuracy: 0.8784 - val_loss: 1.0224 - val_accuracy: 0.5925\n",
            "Epoch 45/100\n",
            "86/86 [==============================] - 0s 3ms/step - loss: 0.3039 - accuracy: 0.8747 - val_loss: 1.0661 - val_accuracy: 0.5789\n",
            "Epoch 46/100\n",
            "86/86 [==============================] - 0s 3ms/step - loss: 0.3014 - accuracy: 0.8733 - val_loss: 1.0607 - val_accuracy: 0.5789\n",
            "Epoch 47/100\n",
            "86/86 [==============================] - 0s 3ms/step - loss: 0.3048 - accuracy: 0.8707 - val_loss: 0.9780 - val_accuracy: 0.6188\n",
            "Epoch 48/100\n",
            "86/86 [==============================] - 0s 5ms/step - loss: 0.3009 - accuracy: 0.8799 - val_loss: 1.0727 - val_accuracy: 0.5932\n",
            "Epoch 49/100\n",
            "86/86 [==============================] - 0s 4ms/step - loss: 0.3002 - accuracy: 0.8711 - val_loss: 1.0637 - val_accuracy: 0.5940\n",
            "Epoch 50/100\n",
            "86/86 [==============================] - 0s 4ms/step - loss: 0.2955 - accuracy: 0.8769 - val_loss: 0.9943 - val_accuracy: 0.6188\n",
            "Epoch 51/100\n",
            "86/86 [==============================] - 0s 3ms/step - loss: 0.2990 - accuracy: 0.8773 - val_loss: 1.0311 - val_accuracy: 0.6060\n",
            "Epoch 52/100\n",
            "86/86 [==============================] - 0s 3ms/step - loss: 0.2957 - accuracy: 0.8788 - val_loss: 1.1065 - val_accuracy: 0.5707\n",
            "Epoch 53/100\n",
            "86/86 [==============================] - 0s 3ms/step - loss: 0.2962 - accuracy: 0.8799 - val_loss: 1.0324 - val_accuracy: 0.6090\n",
            "Epoch 54/100\n",
            "86/86 [==============================] - 0s 3ms/step - loss: 0.2947 - accuracy: 0.8740 - val_loss: 1.0614 - val_accuracy: 0.6053\n",
            "Epoch 55/100\n",
            "86/86 [==============================] - 0s 3ms/step - loss: 0.2876 - accuracy: 0.8806 - val_loss: 1.0473 - val_accuracy: 0.6135\n",
            "Epoch 56/100\n",
            "86/86 [==============================] - 0s 3ms/step - loss: 0.2880 - accuracy: 0.8766 - val_loss: 1.0068 - val_accuracy: 0.6459\n",
            "Epoch 57/100\n",
            "86/86 [==============================] - 0s 2ms/step - loss: 0.2831 - accuracy: 0.8879 - val_loss: 1.0668 - val_accuracy: 0.5925\n",
            "Epoch 58/100\n",
            "86/86 [==============================] - 0s 3ms/step - loss: 0.2886 - accuracy: 0.8832 - val_loss: 1.0804 - val_accuracy: 0.6060\n",
            "Epoch 59/100\n",
            "86/86 [==============================] - 0s 3ms/step - loss: 0.2830 - accuracy: 0.8842 - val_loss: 1.0209 - val_accuracy: 0.6406\n",
            "Epoch 60/100\n",
            "86/86 [==============================] - 0s 2ms/step - loss: 0.2878 - accuracy: 0.8850 - val_loss: 1.0825 - val_accuracy: 0.6030\n",
            "Epoch 61/100\n",
            "86/86 [==============================] - 0s 2ms/step - loss: 0.2836 - accuracy: 0.8813 - val_loss: 1.0707 - val_accuracy: 0.6075\n",
            "Epoch 62/100\n",
            "86/86 [==============================] - 0s 2ms/step - loss: 0.2801 - accuracy: 0.8821 - val_loss: 1.0394 - val_accuracy: 0.6135\n",
            "Epoch 63/100\n",
            "86/86 [==============================] - 0s 3ms/step - loss: 0.2770 - accuracy: 0.8861 - val_loss: 1.0927 - val_accuracy: 0.6053\n",
            "Epoch 64/100\n",
            "86/86 [==============================] - 0s 3ms/step - loss: 0.2817 - accuracy: 0.8839 - val_loss: 1.1641 - val_accuracy: 0.5744\n",
            "Epoch 65/100\n",
            "86/86 [==============================] - 0s 3ms/step - loss: 0.2775 - accuracy: 0.8817 - val_loss: 1.1252 - val_accuracy: 0.5940\n",
            "Epoch 66/100\n",
            "86/86 [==============================] - 0s 3ms/step - loss: 0.2750 - accuracy: 0.8853 - val_loss: 1.1033 - val_accuracy: 0.6015\n",
            "Epoch 67/100\n",
            "86/86 [==============================] - 0s 3ms/step - loss: 0.2730 - accuracy: 0.8861 - val_loss: 1.0852 - val_accuracy: 0.6128\n",
            "Epoch 68/100\n",
            "86/86 [==============================] - 0s 3ms/step - loss: 0.2696 - accuracy: 0.8897 - val_loss: 1.1214 - val_accuracy: 0.6008\n",
            "Epoch 69/100\n",
            "86/86 [==============================] - 0s 3ms/step - loss: 0.2699 - accuracy: 0.8941 - val_loss: 1.1394 - val_accuracy: 0.5887\n",
            "Epoch 70/100\n",
            "86/86 [==============================] - 0s 3ms/step - loss: 0.2693 - accuracy: 0.8806 - val_loss: 1.1044 - val_accuracy: 0.6113\n",
            "Epoch 71/100\n",
            "86/86 [==============================] - 0s 3ms/step - loss: 0.2630 - accuracy: 0.8971 - val_loss: 1.1396 - val_accuracy: 0.6023\n",
            "Epoch 72/100\n",
            "86/86 [==============================] - 0s 2ms/step - loss: 0.2648 - accuracy: 0.8952 - val_loss: 1.1404 - val_accuracy: 0.6023\n",
            "Epoch 73/100\n",
            "86/86 [==============================] - 0s 2ms/step - loss: 0.2644 - accuracy: 0.8919 - val_loss: 1.1339 - val_accuracy: 0.5910\n",
            "Epoch 74/100\n",
            "86/86 [==============================] - 0s 3ms/step - loss: 0.2650 - accuracy: 0.8890 - val_loss: 1.1501 - val_accuracy: 0.6075\n",
            "Epoch 75/100\n",
            "86/86 [==============================] - 0s 3ms/step - loss: 0.2637 - accuracy: 0.8901 - val_loss: 1.1501 - val_accuracy: 0.6180\n",
            "Epoch 76/100\n",
            "86/86 [==============================] - 0s 3ms/step - loss: 0.2598 - accuracy: 0.8934 - val_loss: 1.1485 - val_accuracy: 0.5955\n",
            "Epoch 77/100\n",
            "86/86 [==============================] - 0s 2ms/step - loss: 0.2624 - accuracy: 0.8905 - val_loss: 1.2353 - val_accuracy: 0.5752\n",
            "Epoch 78/100\n",
            "86/86 [==============================] - 0s 3ms/step - loss: 0.2576 - accuracy: 0.9011 - val_loss: 1.1525 - val_accuracy: 0.6113\n",
            "Epoch 79/100\n",
            "86/86 [==============================] - 0s 3ms/step - loss: 0.2588 - accuracy: 0.8934 - val_loss: 1.2302 - val_accuracy: 0.5820\n",
            "Epoch 80/100\n",
            "86/86 [==============================] - 0s 3ms/step - loss: 0.2566 - accuracy: 0.8967 - val_loss: 1.1393 - val_accuracy: 0.6241\n",
            "Epoch 81/100\n",
            "86/86 [==============================] - 0s 3ms/step - loss: 0.2564 - accuracy: 0.8945 - val_loss: 1.1676 - val_accuracy: 0.6165\n",
            "Epoch 82/100\n",
            "86/86 [==============================] - 0s 3ms/step - loss: 0.2503 - accuracy: 0.9011 - val_loss: 1.1889 - val_accuracy: 0.6098\n",
            "Epoch 83/100\n",
            "86/86 [==============================] - 0s 3ms/step - loss: 0.2540 - accuracy: 0.8956 - val_loss: 1.2136 - val_accuracy: 0.5917\n",
            "Epoch 84/100\n",
            "86/86 [==============================] - 0s 3ms/step - loss: 0.2485 - accuracy: 0.9022 - val_loss: 1.1667 - val_accuracy: 0.6158\n",
            "Epoch 85/100\n",
            "86/86 [==============================] - 0s 3ms/step - loss: 0.2476 - accuracy: 0.9022 - val_loss: 1.2022 - val_accuracy: 0.6015\n",
            "Epoch 86/100\n",
            "86/86 [==============================] - 0s 2ms/step - loss: 0.2471 - accuracy: 0.8996 - val_loss: 1.1690 - val_accuracy: 0.6195\n",
            "Epoch 87/100\n",
            "86/86 [==============================] - 0s 2ms/step - loss: 0.2455 - accuracy: 0.9000 - val_loss: 1.2629 - val_accuracy: 0.5842\n",
            "Epoch 88/100\n",
            "86/86 [==============================] - 0s 3ms/step - loss: 0.2476 - accuracy: 0.8989 - val_loss: 1.2098 - val_accuracy: 0.6030\n",
            "Epoch 89/100\n",
            "86/86 [==============================] - 0s 3ms/step - loss: 0.2440 - accuracy: 0.9070 - val_loss: 1.2296 - val_accuracy: 0.5880\n",
            "Epoch 90/100\n",
            "86/86 [==============================] - 0s 3ms/step - loss: 0.2415 - accuracy: 0.9051 - val_loss: 1.1979 - val_accuracy: 0.6248\n",
            "Epoch 91/100\n",
            "86/86 [==============================] - 0s 3ms/step - loss: 0.2413 - accuracy: 0.9037 - val_loss: 1.2872 - val_accuracy: 0.5932\n",
            "Epoch 92/100\n",
            "86/86 [==============================] - 0s 2ms/step - loss: 0.2365 - accuracy: 0.9033 - val_loss: 1.3466 - val_accuracy: 0.5609\n",
            "Epoch 93/100\n",
            "86/86 [==============================] - 0s 3ms/step - loss: 0.2459 - accuracy: 0.8971 - val_loss: 1.2175 - val_accuracy: 0.6090\n",
            "Epoch 94/100\n",
            "86/86 [==============================] - 0s 3ms/step - loss: 0.2370 - accuracy: 0.9099 - val_loss: 1.3660 - val_accuracy: 0.5571\n",
            "Epoch 95/100\n",
            "86/86 [==============================] - 0s 3ms/step - loss: 0.2389 - accuracy: 0.9062 - val_loss: 1.2657 - val_accuracy: 0.6083\n",
            "Epoch 96/100\n",
            "86/86 [==============================] - 0s 3ms/step - loss: 0.2409 - accuracy: 0.9018 - val_loss: 1.2013 - val_accuracy: 0.6263\n",
            "Epoch 97/100\n",
            "86/86 [==============================] - 0s 2ms/step - loss: 0.2402 - accuracy: 0.9004 - val_loss: 1.3345 - val_accuracy: 0.5752\n",
            "Epoch 98/100\n",
            "86/86 [==============================] - 0s 3ms/step - loss: 0.2329 - accuracy: 0.9055 - val_loss: 1.2797 - val_accuracy: 0.5917\n",
            "Epoch 99/100\n",
            "86/86 [==============================] - 0s 2ms/step - loss: 0.2302 - accuracy: 0.9088 - val_loss: 1.3240 - val_accuracy: 0.5902\n",
            "Epoch 100/100\n",
            "86/86 [==============================] - 0s 2ms/step - loss: 0.2314 - accuracy: 0.9040 - val_loss: 1.3225 - val_accuracy: 0.5895\n"
          ]
        }
      ]
    },
    {
      "cell_type": "code",
      "source": [
        "model.evaluate(X_test,y_test)\n",
        "print(\"Testing accuracy :\",model.evaluate(X_test,y_test)[1])\n",
        "print(\"Testing loss :\",model.evaluate(X_test,y_test)[0])"
      ],
      "metadata": {
        "colab": {
          "base_uri": "https://localhost:8080/"
        },
        "id": "STTp84cPQoiK",
        "outputId": "332e3032-ade8-4dde-b4c2-dba4f0136e88"
      },
      "execution_count": 148,
      "outputs": [
        {
          "output_type": "stream",
          "name": "stdout",
          "text": [
            "42/42 [==============================] - 0s 2ms/step - loss: 324431.6562 - accuracy: 0.7692\n",
            "42/42 [==============================] - 0s 2ms/step - loss: 324431.6562 - accuracy: 0.7692\n",
            "Testing accuracy : 0.7691729068756104\n",
            "42/42 [==============================] - 0s 2ms/step - loss: 324431.6562 - accuracy: 0.7692\n",
            "Testing loss : 324431.65625\n"
          ]
        }
      ]
    },
    {
      "cell_type": "code",
      "source": [
        "from imblearn.over_sampling import SMOTE\n",
        "smote = SMOTE(random_state = 1)\n",
        "X_train_3, y_train_3 = smote.fit_resample(X_train, y_train)"
      ],
      "metadata": {
        "id": "icTLCINTQzUd"
      },
      "execution_count": 152,
      "outputs": []
    },
    {
      "cell_type": "code",
      "source": [],
      "metadata": {
        "colab": {
          "base_uri": "https://localhost:8080/"
        },
        "id": "FKK7Ez4vRFjd",
        "outputId": "363fd18e-97d5-449d-daf0-7241b01f08ab"
      },
      "execution_count": 153,
      "outputs": [
        {
          "output_type": "execute_result",
          "data": {
            "text/plain": [
              "Age  Gender  Balance       Vintage  Transaction_Status  Product_Holdings  Credit_Card  10L - 15L  5L - 10L  Less than 5L  More than 15L  Average   Good      Poor    \n",
              "21   1       8.667906e+05  0        0                   1                 0            0.000000   0.0       0.000000      1.000000       0.000000  0.000000  1.000000    1\n",
              "46   0       1.018780e+06  0        0                   2                 1            1.000000   0.0       0.000000      0.000000       0.000000  0.000000  1.000000    1\n",
              "             1.104622e+06  3        0                   1                 1            0.296907   0.0       0.000000      0.703093       0.000000  0.296907  0.703093    1\n",
              "             1.104077e+06  3        0                   1                 1            0.655574   0.0       0.344426      0.000000       0.344426  0.655574  0.000000    1\n",
              "             1.098770e+06  2        0                   1                 0            0.613027   0.0       0.386973      0.000000       0.386973  0.613027  0.000000    1\n",
              "                                                                                                                                                                        ..\n",
              "38   0       3.005605e+05  2        1                   2                 1            0.000000   1.0       0.000000      0.000000       0.000000  1.000000  0.000000    1\n",
              "             3.000625e+05  2        0                   1                 0            0.570560   0.0       0.429440      0.000000       0.000000  0.000000  1.000000    1\n",
              "             2.781624e+05  4        0                   1                 1            0.000000   0.0       0.000000      1.000000       0.000000  1.000000  0.000000    1\n",
              "             2.347948e+05  1        0                   2                 1            0.000000   0.0       1.000000      0.000000       1.000000  0.000000  0.000000    1\n",
              "72   1       8.730771e+05  3        1                   1                 1            1.000000   0.0       0.000000      0.000000       0.000000  1.000000  0.000000    1\n",
              "Length: 8180, dtype: int64"
            ]
          },
          "metadata": {},
          "execution_count": 153
        }
      ]
    },
    {
      "cell_type": "code",
      "source": [
        "trained_model_bal=model.fit(X_train_3,y_train_3,epochs=100)"
      ],
      "metadata": {
        "colab": {
          "base_uri": "https://localhost:8080/",
          "height": 1000
        },
        "id": "YQh_btR9RY2o",
        "outputId": "b0d37964-6907-47a2-f23b-2b055d24b993"
      },
      "execution_count": 154,
      "outputs": [
        {
          "output_type": "stream",
          "name": "stdout",
          "text": [
            "Epoch 1/100\n",
            "256/256 [==============================] - 1s 3ms/step - loss: 72985.5000 - accuracy: 0.5055\n",
            "Epoch 2/100\n",
            "256/256 [==============================] - 1s 2ms/step - loss: 18183.2793 - accuracy: 0.5044\n",
            "Epoch 3/100\n",
            "256/256 [==============================] - 1s 2ms/step - loss: 15202.0518 - accuracy: 0.4902\n",
            "Epoch 4/100\n",
            "256/256 [==============================] - 1s 2ms/step - loss: 14396.4033 - accuracy: 0.5017\n",
            "Epoch 5/100\n",
            "256/256 [==============================] - 1s 2ms/step - loss: 8204.9639 - accuracy: 0.5040\n",
            "Epoch 6/100\n",
            "256/256 [==============================] - 1s 2ms/step - loss: 6725.0298 - accuracy: 0.4934\n",
            "Epoch 7/100\n",
            "256/256 [==============================] - 1s 2ms/step - loss: 6502.2339 - accuracy: 0.5039\n",
            "Epoch 8/100\n",
            "256/256 [==============================] - 1s 2ms/step - loss: 5796.7690 - accuracy: 0.4966\n",
            "Epoch 9/100\n",
            "256/256 [==============================] - 1s 2ms/step - loss: 4599.5781 - accuracy: 0.4908\n",
            "Epoch 10/100\n",
            "256/256 [==============================] - 1s 2ms/step - loss: 4776.3442 - accuracy: 0.5018\n",
            "Epoch 11/100\n",
            "256/256 [==============================] - 1s 2ms/step - loss: 5815.9146 - accuracy: 0.5017\n",
            "Epoch 12/100\n",
            "256/256 [==============================] - 1s 2ms/step - loss: 4700.3696 - accuracy: 0.5054\n",
            "Epoch 13/100\n",
            "256/256 [==============================] - 1s 2ms/step - loss: 6505.2446 - accuracy: 0.4996\n",
            "Epoch 14/100\n",
            "256/256 [==============================] - 1s 2ms/step - loss: 5569.4868 - accuracy: 0.4996\n",
            "Epoch 15/100\n",
            "256/256 [==============================] - 1s 2ms/step - loss: 6359.3789 - accuracy: 0.5022\n",
            "Epoch 16/100\n",
            "256/256 [==============================] - 1s 2ms/step - loss: 5184.7070 - accuracy: 0.5018\n",
            "Epoch 17/100\n",
            "256/256 [==============================] - 1s 2ms/step - loss: 4518.2905 - accuracy: 0.5006\n",
            "Epoch 18/100\n",
            "256/256 [==============================] - 1s 2ms/step - loss: 3281.6973 - accuracy: 0.5057\n",
            "Epoch 19/100\n",
            "256/256 [==============================] - 1s 2ms/step - loss: 5713.9883 - accuracy: 0.4974\n",
            "Epoch 20/100\n",
            "256/256 [==============================] - 1s 2ms/step - loss: 3099.9219 - accuracy: 0.5040\n",
            "Epoch 21/100\n",
            "256/256 [==============================] - 1s 2ms/step - loss: 6626.0283 - accuracy: 0.4985\n",
            "Epoch 22/100\n",
            "256/256 [==============================] - 1s 2ms/step - loss: 3809.1572 - accuracy: 0.4999\n",
            "Epoch 23/100\n",
            "256/256 [==============================] - 1s 2ms/step - loss: 5310.3291 - accuracy: 0.4980\n",
            "Epoch 24/100\n",
            "256/256 [==============================] - 1s 2ms/step - loss: 3958.2473 - accuracy: 0.5098\n",
            "Epoch 25/100\n",
            "256/256 [==============================] - 1s 2ms/step - loss: 2717.7905 - accuracy: 0.5145\n",
            "Epoch 26/100\n",
            "256/256 [==============================] - 1s 2ms/step - loss: 3640.4355 - accuracy: 0.4987\n",
            "Epoch 27/100\n",
            " 52/256 [=====>........................] - ETA: 0s - loss: 5157.7632 - accuracy: 0.4730"
          ]
        },
        {
          "output_type": "error",
          "ename": "KeyboardInterrupt",
          "evalue": "ignored",
          "traceback": [
            "\u001b[0;31m---------------------------------------------------------------------------\u001b[0m",
            "\u001b[0;31mKeyboardInterrupt\u001b[0m                         Traceback (most recent call last)",
            "\u001b[0;32m<ipython-input-154-e0030e4567e9>\u001b[0m in \u001b[0;36m<module>\u001b[0;34m\u001b[0m\n\u001b[0;32m----> 1\u001b[0;31m \u001b[0mtrained_model_bal\u001b[0m\u001b[0;34m=\u001b[0m\u001b[0mmodel\u001b[0m\u001b[0;34m.\u001b[0m\u001b[0mfit\u001b[0m\u001b[0;34m(\u001b[0m\u001b[0mX_train_3\u001b[0m\u001b[0;34m,\u001b[0m\u001b[0my_train_3\u001b[0m\u001b[0;34m,\u001b[0m\u001b[0mepochs\u001b[0m\u001b[0;34m=\u001b[0m\u001b[0;36m100\u001b[0m\u001b[0;34m)\u001b[0m\u001b[0;34m\u001b[0m\u001b[0;34m\u001b[0m\u001b[0m\n\u001b[0m",
            "\u001b[0;32m/usr/local/lib/python3.7/dist-packages/keras/utils/traceback_utils.py\u001b[0m in \u001b[0;36merror_handler\u001b[0;34m(*args, **kwargs)\u001b[0m\n\u001b[1;32m     62\u001b[0m     \u001b[0mfiltered_tb\u001b[0m \u001b[0;34m=\u001b[0m \u001b[0;32mNone\u001b[0m\u001b[0;34m\u001b[0m\u001b[0;34m\u001b[0m\u001b[0m\n\u001b[1;32m     63\u001b[0m     \u001b[0;32mtry\u001b[0m\u001b[0;34m:\u001b[0m\u001b[0;34m\u001b[0m\u001b[0;34m\u001b[0m\u001b[0m\n\u001b[0;32m---> 64\u001b[0;31m       \u001b[0;32mreturn\u001b[0m \u001b[0mfn\u001b[0m\u001b[0;34m(\u001b[0m\u001b[0;34m*\u001b[0m\u001b[0margs\u001b[0m\u001b[0;34m,\u001b[0m \u001b[0;34m**\u001b[0m\u001b[0mkwargs\u001b[0m\u001b[0;34m)\u001b[0m\u001b[0;34m\u001b[0m\u001b[0;34m\u001b[0m\u001b[0m\n\u001b[0m\u001b[1;32m     65\u001b[0m     \u001b[0;32mexcept\u001b[0m \u001b[0mException\u001b[0m \u001b[0;32mas\u001b[0m \u001b[0me\u001b[0m\u001b[0;34m:\u001b[0m  \u001b[0;31m# pylint: disable=broad-except\u001b[0m\u001b[0;34m\u001b[0m\u001b[0;34m\u001b[0m\u001b[0m\n\u001b[1;32m     66\u001b[0m       \u001b[0mfiltered_tb\u001b[0m \u001b[0;34m=\u001b[0m \u001b[0m_process_traceback_frames\u001b[0m\u001b[0;34m(\u001b[0m\u001b[0me\u001b[0m\u001b[0;34m.\u001b[0m\u001b[0m__traceback__\u001b[0m\u001b[0;34m)\u001b[0m\u001b[0;34m\u001b[0m\u001b[0;34m\u001b[0m\u001b[0m\n",
            "\u001b[0;32m/usr/local/lib/python3.7/dist-packages/keras/engine/training.py\u001b[0m in \u001b[0;36mfit\u001b[0;34m(self, x, y, batch_size, epochs, verbose, callbacks, validation_split, validation_data, shuffle, class_weight, sample_weight, initial_epoch, steps_per_epoch, validation_steps, validation_batch_size, validation_freq, max_queue_size, workers, use_multiprocessing)\u001b[0m\n\u001b[1;32m   1382\u001b[0m                 _r=1):\n\u001b[1;32m   1383\u001b[0m               \u001b[0mcallbacks\u001b[0m\u001b[0;34m.\u001b[0m\u001b[0mon_train_batch_begin\u001b[0m\u001b[0;34m(\u001b[0m\u001b[0mstep\u001b[0m\u001b[0;34m)\u001b[0m\u001b[0;34m\u001b[0m\u001b[0;34m\u001b[0m\u001b[0m\n\u001b[0;32m-> 1384\u001b[0;31m               \u001b[0mtmp_logs\u001b[0m \u001b[0;34m=\u001b[0m \u001b[0mself\u001b[0m\u001b[0;34m.\u001b[0m\u001b[0mtrain_function\u001b[0m\u001b[0;34m(\u001b[0m\u001b[0miterator\u001b[0m\u001b[0;34m)\u001b[0m\u001b[0;34m\u001b[0m\u001b[0;34m\u001b[0m\u001b[0m\n\u001b[0m\u001b[1;32m   1385\u001b[0m               \u001b[0;32mif\u001b[0m \u001b[0mdata_handler\u001b[0m\u001b[0;34m.\u001b[0m\u001b[0mshould_sync\u001b[0m\u001b[0;34m:\u001b[0m\u001b[0;34m\u001b[0m\u001b[0;34m\u001b[0m\u001b[0m\n\u001b[1;32m   1386\u001b[0m                 \u001b[0mcontext\u001b[0m\u001b[0;34m.\u001b[0m\u001b[0masync_wait\u001b[0m\u001b[0;34m(\u001b[0m\u001b[0;34m)\u001b[0m\u001b[0;34m\u001b[0m\u001b[0;34m\u001b[0m\u001b[0m\n",
            "\u001b[0;32m/usr/local/lib/python3.7/dist-packages/tensorflow/python/util/traceback_utils.py\u001b[0m in \u001b[0;36merror_handler\u001b[0;34m(*args, **kwargs)\u001b[0m\n\u001b[1;32m    148\u001b[0m     \u001b[0mfiltered_tb\u001b[0m \u001b[0;34m=\u001b[0m \u001b[0;32mNone\u001b[0m\u001b[0;34m\u001b[0m\u001b[0;34m\u001b[0m\u001b[0m\n\u001b[1;32m    149\u001b[0m     \u001b[0;32mtry\u001b[0m\u001b[0;34m:\u001b[0m\u001b[0;34m\u001b[0m\u001b[0;34m\u001b[0m\u001b[0m\n\u001b[0;32m--> 150\u001b[0;31m       \u001b[0;32mreturn\u001b[0m \u001b[0mfn\u001b[0m\u001b[0;34m(\u001b[0m\u001b[0;34m*\u001b[0m\u001b[0margs\u001b[0m\u001b[0;34m,\u001b[0m \u001b[0;34m**\u001b[0m\u001b[0mkwargs\u001b[0m\u001b[0;34m)\u001b[0m\u001b[0;34m\u001b[0m\u001b[0;34m\u001b[0m\u001b[0m\n\u001b[0m\u001b[1;32m    151\u001b[0m     \u001b[0;32mexcept\u001b[0m \u001b[0mException\u001b[0m \u001b[0;32mas\u001b[0m \u001b[0me\u001b[0m\u001b[0;34m:\u001b[0m\u001b[0;34m\u001b[0m\u001b[0;34m\u001b[0m\u001b[0m\n\u001b[1;32m    152\u001b[0m       \u001b[0mfiltered_tb\u001b[0m \u001b[0;34m=\u001b[0m \u001b[0m_process_traceback_frames\u001b[0m\u001b[0;34m(\u001b[0m\u001b[0me\u001b[0m\u001b[0;34m.\u001b[0m\u001b[0m__traceback__\u001b[0m\u001b[0;34m)\u001b[0m\u001b[0;34m\u001b[0m\u001b[0;34m\u001b[0m\u001b[0m\n",
            "\u001b[0;32m/usr/local/lib/python3.7/dist-packages/tensorflow/python/eager/def_function.py\u001b[0m in \u001b[0;36m__call__\u001b[0;34m(self, *args, **kwds)\u001b[0m\n\u001b[1;32m    913\u001b[0m \u001b[0;34m\u001b[0m\u001b[0m\n\u001b[1;32m    914\u001b[0m       \u001b[0;32mwith\u001b[0m \u001b[0mOptionalXlaContext\u001b[0m\u001b[0;34m(\u001b[0m\u001b[0mself\u001b[0m\u001b[0;34m.\u001b[0m\u001b[0m_jit_compile\u001b[0m\u001b[0;34m)\u001b[0m\u001b[0;34m:\u001b[0m\u001b[0;34m\u001b[0m\u001b[0;34m\u001b[0m\u001b[0m\n\u001b[0;32m--> 915\u001b[0;31m         \u001b[0mresult\u001b[0m \u001b[0;34m=\u001b[0m \u001b[0mself\u001b[0m\u001b[0;34m.\u001b[0m\u001b[0m_call\u001b[0m\u001b[0;34m(\u001b[0m\u001b[0;34m*\u001b[0m\u001b[0margs\u001b[0m\u001b[0;34m,\u001b[0m \u001b[0;34m**\u001b[0m\u001b[0mkwds\u001b[0m\u001b[0;34m)\u001b[0m\u001b[0;34m\u001b[0m\u001b[0;34m\u001b[0m\u001b[0m\n\u001b[0m\u001b[1;32m    916\u001b[0m \u001b[0;34m\u001b[0m\u001b[0m\n\u001b[1;32m    917\u001b[0m       \u001b[0mnew_tracing_count\u001b[0m \u001b[0;34m=\u001b[0m \u001b[0mself\u001b[0m\u001b[0;34m.\u001b[0m\u001b[0mexperimental_get_tracing_count\u001b[0m\u001b[0;34m(\u001b[0m\u001b[0;34m)\u001b[0m\u001b[0;34m\u001b[0m\u001b[0;34m\u001b[0m\u001b[0m\n",
            "\u001b[0;32m/usr/local/lib/python3.7/dist-packages/tensorflow/python/eager/def_function.py\u001b[0m in \u001b[0;36m_call\u001b[0;34m(self, *args, **kwds)\u001b[0m\n\u001b[1;32m    945\u001b[0m       \u001b[0;31m# In this case we have created variables on the first call, so we run the\u001b[0m\u001b[0;34m\u001b[0m\u001b[0;34m\u001b[0m\u001b[0;34m\u001b[0m\u001b[0m\n\u001b[1;32m    946\u001b[0m       \u001b[0;31m# defunned version which is guaranteed to never create variables.\u001b[0m\u001b[0;34m\u001b[0m\u001b[0;34m\u001b[0m\u001b[0;34m\u001b[0m\u001b[0m\n\u001b[0;32m--> 947\u001b[0;31m       \u001b[0;32mreturn\u001b[0m \u001b[0mself\u001b[0m\u001b[0;34m.\u001b[0m\u001b[0m_stateless_fn\u001b[0m\u001b[0;34m(\u001b[0m\u001b[0;34m*\u001b[0m\u001b[0margs\u001b[0m\u001b[0;34m,\u001b[0m \u001b[0;34m**\u001b[0m\u001b[0mkwds\u001b[0m\u001b[0;34m)\u001b[0m  \u001b[0;31m# pylint: disable=not-callable\u001b[0m\u001b[0;34m\u001b[0m\u001b[0;34m\u001b[0m\u001b[0m\n\u001b[0m\u001b[1;32m    948\u001b[0m     \u001b[0;32melif\u001b[0m \u001b[0mself\u001b[0m\u001b[0;34m.\u001b[0m\u001b[0m_stateful_fn\u001b[0m \u001b[0;32mis\u001b[0m \u001b[0;32mnot\u001b[0m \u001b[0;32mNone\u001b[0m\u001b[0;34m:\u001b[0m\u001b[0;34m\u001b[0m\u001b[0;34m\u001b[0m\u001b[0m\n\u001b[1;32m    949\u001b[0m       \u001b[0;31m# Release the lock early so that multiple threads can perform the call\u001b[0m\u001b[0;34m\u001b[0m\u001b[0;34m\u001b[0m\u001b[0;34m\u001b[0m\u001b[0m\n",
            "\u001b[0;32m/usr/local/lib/python3.7/dist-packages/tensorflow/python/eager/function.py\u001b[0m in \u001b[0;36m__call__\u001b[0;34m(self, *args, **kwargs)\u001b[0m\n\u001b[1;32m   2955\u001b[0m        filtered_flat_args) = self._maybe_define_function(args, kwargs)\n\u001b[1;32m   2956\u001b[0m     return graph_function._call_flat(\n\u001b[0;32m-> 2957\u001b[0;31m         filtered_flat_args, captured_inputs=graph_function.captured_inputs)  # pylint: disable=protected-access\n\u001b[0m\u001b[1;32m   2958\u001b[0m \u001b[0;34m\u001b[0m\u001b[0m\n\u001b[1;32m   2959\u001b[0m   \u001b[0;34m@\u001b[0m\u001b[0mproperty\u001b[0m\u001b[0;34m\u001b[0m\u001b[0;34m\u001b[0m\u001b[0m\n",
            "\u001b[0;32m/usr/local/lib/python3.7/dist-packages/tensorflow/python/eager/function.py\u001b[0m in \u001b[0;36m_call_flat\u001b[0;34m(self, args, captured_inputs, cancellation_manager)\u001b[0m\n\u001b[1;32m   1852\u001b[0m       \u001b[0;31m# No tape is watching; skip to running the function.\u001b[0m\u001b[0;34m\u001b[0m\u001b[0;34m\u001b[0m\u001b[0;34m\u001b[0m\u001b[0m\n\u001b[1;32m   1853\u001b[0m       return self._build_call_outputs(self._inference_function.call(\n\u001b[0;32m-> 1854\u001b[0;31m           ctx, args, cancellation_manager=cancellation_manager))\n\u001b[0m\u001b[1;32m   1855\u001b[0m     forward_backward = self._select_forward_and_backward_functions(\n\u001b[1;32m   1856\u001b[0m         \u001b[0margs\u001b[0m\u001b[0;34m,\u001b[0m\u001b[0;34m\u001b[0m\u001b[0;34m\u001b[0m\u001b[0m\n",
            "\u001b[0;32m/usr/local/lib/python3.7/dist-packages/tensorflow/python/eager/function.py\u001b[0m in \u001b[0;36mcall\u001b[0;34m(self, ctx, args, cancellation_manager)\u001b[0m\n\u001b[1;32m    502\u001b[0m               \u001b[0minputs\u001b[0m\u001b[0;34m=\u001b[0m\u001b[0margs\u001b[0m\u001b[0;34m,\u001b[0m\u001b[0;34m\u001b[0m\u001b[0;34m\u001b[0m\u001b[0m\n\u001b[1;32m    503\u001b[0m               \u001b[0mattrs\u001b[0m\u001b[0;34m=\u001b[0m\u001b[0mattrs\u001b[0m\u001b[0;34m,\u001b[0m\u001b[0;34m\u001b[0m\u001b[0;34m\u001b[0m\u001b[0m\n\u001b[0;32m--> 504\u001b[0;31m               ctx=ctx)\n\u001b[0m\u001b[1;32m    505\u001b[0m         \u001b[0;32melse\u001b[0m\u001b[0;34m:\u001b[0m\u001b[0;34m\u001b[0m\u001b[0;34m\u001b[0m\u001b[0m\n\u001b[1;32m    506\u001b[0m           outputs = execute.execute_with_cancellation(\n",
            "\u001b[0;32m/usr/local/lib/python3.7/dist-packages/tensorflow/python/eager/execute.py\u001b[0m in \u001b[0;36mquick_execute\u001b[0;34m(op_name, num_outputs, inputs, attrs, ctx, name)\u001b[0m\n\u001b[1;32m     53\u001b[0m     \u001b[0mctx\u001b[0m\u001b[0;34m.\u001b[0m\u001b[0mensure_initialized\u001b[0m\u001b[0;34m(\u001b[0m\u001b[0;34m)\u001b[0m\u001b[0;34m\u001b[0m\u001b[0;34m\u001b[0m\u001b[0m\n\u001b[1;32m     54\u001b[0m     tensors = pywrap_tfe.TFE_Py_Execute(ctx._handle, device_name, op_name,\n\u001b[0;32m---> 55\u001b[0;31m                                         inputs, attrs, num_outputs)\n\u001b[0m\u001b[1;32m     56\u001b[0m   \u001b[0;32mexcept\u001b[0m \u001b[0mcore\u001b[0m\u001b[0;34m.\u001b[0m\u001b[0m_NotOkStatusException\u001b[0m \u001b[0;32mas\u001b[0m \u001b[0me\u001b[0m\u001b[0;34m:\u001b[0m\u001b[0;34m\u001b[0m\u001b[0;34m\u001b[0m\u001b[0m\n\u001b[1;32m     57\u001b[0m     \u001b[0;32mif\u001b[0m \u001b[0mname\u001b[0m \u001b[0;32mis\u001b[0m \u001b[0;32mnot\u001b[0m \u001b[0;32mNone\u001b[0m\u001b[0;34m:\u001b[0m\u001b[0;34m\u001b[0m\u001b[0;34m\u001b[0m\u001b[0m\n",
            "\u001b[0;31mKeyboardInterrupt\u001b[0m: "
          ]
        }
      ]
    },
    {
      "cell_type": "code",
      "source": [],
      "metadata": {
        "id": "HAo_0Tm3RjaZ"
      },
      "execution_count": null,
      "outputs": []
    }
  ],
  "metadata": {
    "colab": {
      "collapsed_sections": [],
      "provenance": []
    },
    "kernelspec": {
      "display_name": "Python 3",
      "name": "python3"
    },
    "language_info": {
      "name": "python"
    }
  },
  "nbformat": 4,
  "nbformat_minor": 0
}